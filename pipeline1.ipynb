{
  "cells": [
    {
      "cell_type": "markdown",
      "metadata": {
        "id": "view-in-github",
        "colab_type": "text"
      },
      "source": [
        "<a href=\"https://colab.research.google.com/github/kangelaa/pic16b-final-proj/blob/main/pipeline1.ipynb\" target=\"_parent\"><img src=\"https://colab.research.google.com/assets/colab-badge.svg\" alt=\"Open In Colab\"/></a>"
      ]
    },
    {
      "cell_type": "code",
      "source": [
        "!jupyter notebook --NotebookApp.iopub_data_rate_limit=1.0e10"
      ],
      "metadata": {
        "colab": {
          "base_uri": "https://localhost:8080/"
        },
        "id": "qfz5wUWetSlP",
        "outputId": "065a70a8-6c2b-461c-9aff-871edc3d8d7a"
      },
      "id": "qfz5wUWetSlP",
      "execution_count": null,
      "outputs": [
        {
          "output_type": "stream",
          "name": "stdout",
          "text": [
            "|DEBUG|Paths used for configuration of jupyter_notebook_config: \n",
            "    \t/etc/jupyter/jupyter_notebook_config.json\n",
            "|DEBUG|Paths used for configuration of jupyter_notebook_config: \n",
            "    \t/usr/local/etc/jupyter/jupyter_notebook_config.d/panel-client-jupyter.json\n",
            "    \t/usr/local/etc/jupyter/jupyter_notebook_config.json\n",
            "|DEBUG|Paths used for configuration of jupyter_notebook_config: \n",
            "    \t/usr/etc/jupyter/jupyter_notebook_config.json\n",
            "|DEBUG|Paths used for configuration of jupyter_notebook_config: \n",
            "    \t/root/.local/etc/jupyter/jupyter_notebook_config.json\n",
            "|DEBUG|Paths used for configuration of jupyter_notebook_config: \n",
            "    \t/root/.jupyter/jupyter_notebook_config.json\n",
            "|INFO|google.colab serverextension initialized.\n",
            "|INFO|Serving notebooks from local directory: /content\n",
            "|INFO|Jupyter Notebook 6.4.8 is running at:\n",
            "|INFO|http://localhost:8888/?token=80780f6077be101e2c238b2c2445d64d1da485bc4e2cdead\n",
            "|INFO| or http://127.0.0.1:8888/?token=80780f6077be101e2c238b2c2445d64d1da485bc4e2cdead\n",
            "|INFO|Use Control-C to stop this server and shut down all kernels (twice to skip confirmation).\n",
            "|CRITICAL|\n",
            "    \n",
            "    To access the notebook, open this file in a browser:\n",
            "        file:///root/.local/share/jupyter/runtime/nbserver-32894-open.html\n",
            "    Or copy and paste one of these URLs:\n",
            "        http://localhost:8888/?token=80780f6077be101e2c238b2c2445d64d1da485bc4e2cdead\n",
            "     or http://127.0.0.1:8888/?token=80780f6077be101e2c238b2c2445d64d1da485bc4e2cdead\n",
            "|CRITICAL|received signal 2, stopping\n",
            "|INFO|interrupted\n",
            "|CRITICAL|Shutting down...\n",
            "|INFO|Shutting down 0 kernels\n",
            "|INFO|Shutting down 0 terminals\n"
          ]
        }
      ]
    },
    {
      "cell_type": "code",
      "source": [
        "from bs4 import BeautifulSoup\n",
        "import requests\n",
        "\n",
        "def GetProxys():\n",
        "    website_html = requests.get(\"https://free-proxy-list.net\").text\n",
        "    soup = BeautifulSoup(website_html, \"html.parser\")\n",
        "    soup = soup.find(\"table\")\n",
        "    Headings = []\n",
        "    Body = []\n",
        "    Ip = []\n",
        "    for heading in soup.find_all(\"th\"):\n",
        "        Headings.append(heading.text)\n",
        "    for ip_html in soup.find_all(\"tr\"):\n",
        "        ip_info_list = []\n",
        "        for ip_info in ip_html.find_all(\"td\"):\n",
        "            ip_info_list.append(ip_info.text)\n",
        "        if len(ip_info_list) > 1:\n",
        "            if ip_info_list[6] == \"yes\":\n",
        "                Ip.append(f\"{ip_info_list[0]}:{ip_info_list[1]}\")\n",
        "                Body.append(ip_info_list)\n",
        "    return Ip, \n",
        "\n",
        "\n",
        "ips = GetProxys()\n",
        "ips"
      ],
      "metadata": {
        "colab": {
          "base_uri": "https://localhost:8080/"
        },
        "id": "Ju9kIPkixpZC",
        "outputId": "278a8326-089c-4d47-8865-1e2aa9f0c83c"
      },
      "id": "Ju9kIPkixpZC",
      "execution_count": null,
      "outputs": [
        {
          "output_type": "execute_result",
          "data": {
            "text/plain": [
              "([],)"
            ]
          },
          "metadata": {},
          "execution_count": 19
        }
      ]
    },
    {
      "cell_type": "code",
      "source": [
        "def perform_request(ip):\n",
        "    http_proxy = f\"http://{ip}\"\n",
        "    https_proxy = f\"https://{ip}\"\n",
        "\n",
        "    proxyDict = {\n",
        "        \"http\": http_proxy,\n",
        "        \"https\": https_proxy,\n",
        "    }\n",
        "    try:\n",
        "       r = requests.get(\"http://api.ipify.org\",\n",
        "                             proxies=proxyDict, timeout=10)\n",
        "       print(f\"{r}/{r.text}\", end=\"/\")\n",
        "    except:\n",
        "        print(\"{-_-}\", end=\"/\")\n",
        "    print()"
      ],
      "metadata": {
        "id": "9qUQYRP_yIWv"
      },
      "id": "9qUQYRP_yIWv",
      "execution_count": null,
      "outputs": []
    },
    {
      "cell_type": "code",
      "source": [
        "for ip in ips:\n",
        "    perform_request(ip)"
      ],
      "metadata": {
        "colab": {
          "base_uri": "https://localhost:8080/"
        },
        "id": "XlWY4PaJyNFJ",
        "outputId": "a98fc94d-9e62-4713-8eb4-a62925c3c378"
      },
      "id": "XlWY4PaJyNFJ",
      "execution_count": null,
      "outputs": [
        {
          "output_type": "stream",
          "name": "stdout",
          "text": [
            "{-_-}/\n"
          ]
        }
      ]
    },
    {
      "cell_type": "code",
      "execution_count": null,
      "metadata": {
        "colab": {
          "base_uri": "https://localhost:8080/"
        },
        "id": "50f3063d",
        "outputId": "d1a1a5e3-e080-4b59-a5b6-e2135c70f3b1"
      },
      "outputs": [
        {
          "output_type": "stream",
          "name": "stdout",
          "text": [
            "Looking in indexes: https://pypi.org/simple, https://us-python.pkg.dev/colab-wheels/public/simple/\n",
            "Requirement already satisfied: textblob in /usr/local/lib/python3.10/dist-packages (0.17.1)\n",
            "Requirement already satisfied: nltk>=3.1 in /usr/local/lib/python3.10/dist-packages (from textblob) (3.8.1)\n",
            "Requirement already satisfied: click in /usr/local/lib/python3.10/dist-packages (from nltk>=3.1->textblob) (8.1.3)\n",
            "Requirement already satisfied: joblib in /usr/local/lib/python3.10/dist-packages (from nltk>=3.1->textblob) (1.2.0)\n",
            "Requirement already satisfied: regex>=2021.8.3 in /usr/local/lib/python3.10/dist-packages (from nltk>=3.1->textblob) (2022.10.31)\n",
            "Requirement already satisfied: tqdm in /usr/local/lib/python3.10/dist-packages (from nltk>=3.1->textblob) (4.65.0)\n",
            "Looking in indexes: https://pypi.org/simple, https://us-python.pkg.dev/colab-wheels/public/simple/\n",
            "Collecting spotipy\n",
            "  Downloading spotipy-2.23.0-py3-none-any.whl (29 kB)\n",
            "Collecting redis>=3.5.3 (from spotipy)\n",
            "  Downloading redis-4.5.5-py3-none-any.whl (240 kB)\n",
            "\u001b[2K     \u001b[90m━━━━━━━━━━━━━━━━━━━━━━━━━━━━━━━━━━━━━━━\u001b[0m \u001b[32m240.3/240.3 kB\u001b[0m \u001b[31m6.4 MB/s\u001b[0m eta \u001b[36m0:00:00\u001b[0m\n",
            "\u001b[?25hRequirement already satisfied: requests>=2.25.0 in /usr/local/lib/python3.10/dist-packages (from spotipy) (2.27.1)\n",
            "Requirement already satisfied: six>=1.15.0 in /usr/local/lib/python3.10/dist-packages (from spotipy) (1.16.0)\n",
            "Requirement already satisfied: urllib3>=1.26.0 in /usr/local/lib/python3.10/dist-packages (from spotipy) (1.26.15)\n",
            "Collecting async-timeout>=4.0.2 (from redis>=3.5.3->spotipy)\n",
            "  Downloading async_timeout-4.0.2-py3-none-any.whl (5.8 kB)\n",
            "Requirement already satisfied: certifi>=2017.4.17 in /usr/local/lib/python3.10/dist-packages (from requests>=2.25.0->spotipy) (2022.12.7)\n",
            "Requirement already satisfied: charset-normalizer~=2.0.0 in /usr/local/lib/python3.10/dist-packages (from requests>=2.25.0->spotipy) (2.0.12)\n",
            "Requirement already satisfied: idna<4,>=2.5 in /usr/local/lib/python3.10/dist-packages (from requests>=2.25.0->spotipy) (3.4)\n",
            "Installing collected packages: async-timeout, redis, spotipy\n",
            "Successfully installed async-timeout-4.0.2 redis-4.5.5 spotipy-2.23.0\n"
          ]
        }
      ],
      "source": [
        "#install required packages\n",
        "!pip install textblob\n",
        "!pip install spotipy"
      ],
      "id": "50f3063d"
    },
    {
      "cell_type": "code",
      "execution_count": null,
      "metadata": {
        "id": "45fb8199"
      },
      "outputs": [],
      "source": [
        "#imports\n",
        "import spotipy\n",
        "from spotipy.oauth2 import SpotifyClientCredentials\n",
        "from spotipy.oauth2 import SpotifyOAuth\n",
        "import spotipy.oauth2 as oauth2\n",
        "import pandas as pd\n",
        "from sklearn.metrics.pairwise import cosine_similarity\n",
        "from sklearn.preprocessing import MinMaxScaler\n",
        "from sklearn.feature_extraction.text import TfidfVectorizer\n",
        "from textblob import TextBlob\n",
        "import re\n",
        "import json\n",
        "import csv\n",
        "import time"
      ],
      "id": "45fb8199"
    },
    {
      "cell_type": "markdown",
      "metadata": {
        "id": "7fb8b2b0"
      },
      "source": [
        "## Part 1: Turn data from json to csv"
      ],
      "id": "7fb8b2b0"
    },
    {
      "cell_type": "code",
      "execution_count": null,
      "metadata": {
        "colab": {
          "base_uri": "https://localhost:8080/"
        },
        "id": "6a24a53c",
        "outputId": "e78ae858-ff37-4607-b02b-898d097892f9"
      },
      "outputs": [
        {
          "output_type": "stream",
          "name": "stdout",
          "text": [
            "Mounted at /content/gdrive\n"
          ]
        }
      ],
      "source": [
        "#access files from Google Drive\n",
        "from google.colab import drive\n",
        "drive.mount('/content/gdrive')"
      ],
      "id": "6a24a53c"
    },
    {
      "cell_type": "code",
      "execution_count": null,
      "metadata": {
        "id": "24938228"
      },
      "outputs": [],
      "source": [
        "#just try for one .json file right now\n",
        "\n",
        "# with open('/content/gdrive/MyDrive/2022-23/Final Project/mpd.slice.0-999.json', 'r') as json_file:\n",
        "#     data = json.load(json_file)\n",
        "\n",
        "\n",
        "\n",
        "playlists = data['playlists']\n",
        "\n",
        "tracks = []\n",
        "\n",
        "for playlist in playlists:\n",
        "    playlist_name = playlist['name']\n",
        "    playlist_tracks = playlist['tracks']\n",
        "    \n",
        "    for track in playlist_tracks:\n",
        "     \n",
        "        track_info = {\n",
        "            'playlist_name': playlist_name,\n",
        "            'track_name': track['track_name'],\n",
        "            'artist_name': track['artist_name'],\n",
        "            'album_name': track['album_name'],\n",
        "            'track_uri': track['track_uri']\n",
        "        }\n",
        "\n",
        "        tracks.append(track_info)\n",
        "\n",
        "fieldnames = ['playlist_name', 'track_name', 'artist_name', 'album_name', 'track_uri']\n",
        "\n",
        "with open('output.csv', 'w', newline='', encoding='utf-8') as csv_file:\n",
        "    writer = csv.DictWriter(csv_file, fieldnames=fieldnames)\n",
        "    writer.writeheader()\n",
        "    writer.writerows(tracks)"
      ],
      "id": "24938228"
    },
    {
      "cell_type": "code",
      "execution_count": null,
      "metadata": {
        "id": "ecfa996e"
      },
      "outputs": [],
      "source": [
        "rawdf = pd.read_csv('output.csv')"
      ],
      "id": "ecfa996e"
    },
    {
      "cell_type": "code",
      "execution_count": null,
      "metadata": {
        "colab": {
          "base_uri": "https://localhost:8080/",
          "height": 476
        },
        "id": "cce5702b",
        "outputId": "eebaed25-b7a0-43e1-e46b-e0b1a642d75c"
      },
      "outputs": [
        {
          "output_type": "execute_result",
          "data": {
            "text/plain": [
              "  playlist_name                                  track_name  \\\n",
              "0    Throwbacks  Lose Control (feat. Ciara & Fat Man Scoop)   \n",
              "1    Throwbacks                                       Toxic   \n",
              "2    Throwbacks                               Crazy In Love   \n",
              "3    Throwbacks                              Rock Your Body   \n",
              "4    Throwbacks                                It Wasn't Me   \n",
              "5    Throwbacks                                       Yeah!   \n",
              "6    Throwbacks                                      My Boo   \n",
              "7    Throwbacks                                     Buttons   \n",
              "8    Throwbacks                                 Say My Name   \n",
              "9    Throwbacks              Hey Ya! - Radio Mix / Club Mix   \n",
              "\n",
              "          artist_name                                    album_name  \\\n",
              "0       Missy Elliott                                  The Cookbook   \n",
              "1      Britney Spears                                   In The Zone   \n",
              "2             Beyoncé  Dangerously In Love (Alben für die Ewigkeit)   \n",
              "3   Justin Timberlake                                     Justified   \n",
              "4              Shaggy                                      Hot Shot   \n",
              "5               Usher                                   Confessions   \n",
              "6               Usher                                   Confessions   \n",
              "7  The Pussycat Dolls                                           PCD   \n",
              "8     Destiny's Child                     The Writing's On The Wall   \n",
              "9             OutKast                   Speakerboxxx/The Love Below   \n",
              "\n",
              "                              track_uri  \n",
              "0  spotify:track:0UaMYEvWZi0ZqiDOoHU3YI  \n",
              "1  spotify:track:6I9VzXrHxO9rA9A5euc8Ak  \n",
              "2  spotify:track:0WqIKmW4BTrj3eJFmnCKMv  \n",
              "3  spotify:track:1AWQoqb9bSvzTjaLralEkT  \n",
              "4  spotify:track:1lzr43nnXAijIGYnCT8M8H  \n",
              "5  spotify:track:0XUfyU2QviPAs6bxSpXYG4  \n",
              "6  spotify:track:68vgtRHr7iZHpzGpon6Jlo  \n",
              "7  spotify:track:3BxWKCI06eQ5Od8TY2JBeA  \n",
              "8  spotify:track:7H6ev70Weq6DdpZyyTmUXk  \n",
              "9  spotify:track:2PpruBYCo4H7WOBJ7Q2EwM  "
            ],
            "text/html": [
              "\n",
              "  <div id=\"df-53b2c014-ae0b-4c69-b208-e9cf444236b4\">\n",
              "    <div class=\"colab-df-container\">\n",
              "      <div>\n",
              "<style scoped>\n",
              "    .dataframe tbody tr th:only-of-type {\n",
              "        vertical-align: middle;\n",
              "    }\n",
              "\n",
              "    .dataframe tbody tr th {\n",
              "        vertical-align: top;\n",
              "    }\n",
              "\n",
              "    .dataframe thead th {\n",
              "        text-align: right;\n",
              "    }\n",
              "</style>\n",
              "<table border=\"1\" class=\"dataframe\">\n",
              "  <thead>\n",
              "    <tr style=\"text-align: right;\">\n",
              "      <th></th>\n",
              "      <th>playlist_name</th>\n",
              "      <th>track_name</th>\n",
              "      <th>artist_name</th>\n",
              "      <th>album_name</th>\n",
              "      <th>track_uri</th>\n",
              "    </tr>\n",
              "  </thead>\n",
              "  <tbody>\n",
              "    <tr>\n",
              "      <th>0</th>\n",
              "      <td>Throwbacks</td>\n",
              "      <td>Lose Control (feat. Ciara &amp; Fat Man Scoop)</td>\n",
              "      <td>Missy Elliott</td>\n",
              "      <td>The Cookbook</td>\n",
              "      <td>spotify:track:0UaMYEvWZi0ZqiDOoHU3YI</td>\n",
              "    </tr>\n",
              "    <tr>\n",
              "      <th>1</th>\n",
              "      <td>Throwbacks</td>\n",
              "      <td>Toxic</td>\n",
              "      <td>Britney Spears</td>\n",
              "      <td>In The Zone</td>\n",
              "      <td>spotify:track:6I9VzXrHxO9rA9A5euc8Ak</td>\n",
              "    </tr>\n",
              "    <tr>\n",
              "      <th>2</th>\n",
              "      <td>Throwbacks</td>\n",
              "      <td>Crazy In Love</td>\n",
              "      <td>Beyoncé</td>\n",
              "      <td>Dangerously In Love (Alben für die Ewigkeit)</td>\n",
              "      <td>spotify:track:0WqIKmW4BTrj3eJFmnCKMv</td>\n",
              "    </tr>\n",
              "    <tr>\n",
              "      <th>3</th>\n",
              "      <td>Throwbacks</td>\n",
              "      <td>Rock Your Body</td>\n",
              "      <td>Justin Timberlake</td>\n",
              "      <td>Justified</td>\n",
              "      <td>spotify:track:1AWQoqb9bSvzTjaLralEkT</td>\n",
              "    </tr>\n",
              "    <tr>\n",
              "      <th>4</th>\n",
              "      <td>Throwbacks</td>\n",
              "      <td>It Wasn't Me</td>\n",
              "      <td>Shaggy</td>\n",
              "      <td>Hot Shot</td>\n",
              "      <td>spotify:track:1lzr43nnXAijIGYnCT8M8H</td>\n",
              "    </tr>\n",
              "    <tr>\n",
              "      <th>5</th>\n",
              "      <td>Throwbacks</td>\n",
              "      <td>Yeah!</td>\n",
              "      <td>Usher</td>\n",
              "      <td>Confessions</td>\n",
              "      <td>spotify:track:0XUfyU2QviPAs6bxSpXYG4</td>\n",
              "    </tr>\n",
              "    <tr>\n",
              "      <th>6</th>\n",
              "      <td>Throwbacks</td>\n",
              "      <td>My Boo</td>\n",
              "      <td>Usher</td>\n",
              "      <td>Confessions</td>\n",
              "      <td>spotify:track:68vgtRHr7iZHpzGpon6Jlo</td>\n",
              "    </tr>\n",
              "    <tr>\n",
              "      <th>7</th>\n",
              "      <td>Throwbacks</td>\n",
              "      <td>Buttons</td>\n",
              "      <td>The Pussycat Dolls</td>\n",
              "      <td>PCD</td>\n",
              "      <td>spotify:track:3BxWKCI06eQ5Od8TY2JBeA</td>\n",
              "    </tr>\n",
              "    <tr>\n",
              "      <th>8</th>\n",
              "      <td>Throwbacks</td>\n",
              "      <td>Say My Name</td>\n",
              "      <td>Destiny's Child</td>\n",
              "      <td>The Writing's On The Wall</td>\n",
              "      <td>spotify:track:7H6ev70Weq6DdpZyyTmUXk</td>\n",
              "    </tr>\n",
              "    <tr>\n",
              "      <th>9</th>\n",
              "      <td>Throwbacks</td>\n",
              "      <td>Hey Ya! - Radio Mix / Club Mix</td>\n",
              "      <td>OutKast</td>\n",
              "      <td>Speakerboxxx/The Love Below</td>\n",
              "      <td>spotify:track:2PpruBYCo4H7WOBJ7Q2EwM</td>\n",
              "    </tr>\n",
              "  </tbody>\n",
              "</table>\n",
              "</div>\n",
              "      <button class=\"colab-df-convert\" onclick=\"convertToInteractive('df-53b2c014-ae0b-4c69-b208-e9cf444236b4')\"\n",
              "              title=\"Convert this dataframe to an interactive table.\"\n",
              "              style=\"display:none;\">\n",
              "        \n",
              "  <svg xmlns=\"http://www.w3.org/2000/svg\" height=\"24px\"viewBox=\"0 0 24 24\"\n",
              "       width=\"24px\">\n",
              "    <path d=\"M0 0h24v24H0V0z\" fill=\"none\"/>\n",
              "    <path d=\"M18.56 5.44l.94 2.06.94-2.06 2.06-.94-2.06-.94-.94-2.06-.94 2.06-2.06.94zm-11 1L8.5 8.5l.94-2.06 2.06-.94-2.06-.94L8.5 2.5l-.94 2.06-2.06.94zm10 10l.94 2.06.94-2.06 2.06-.94-2.06-.94-.94-2.06-.94 2.06-2.06.94z\"/><path d=\"M17.41 7.96l-1.37-1.37c-.4-.4-.92-.59-1.43-.59-.52 0-1.04.2-1.43.59L10.3 9.45l-7.72 7.72c-.78.78-.78 2.05 0 2.83L4 21.41c.39.39.9.59 1.41.59.51 0 1.02-.2 1.41-.59l7.78-7.78 2.81-2.81c.8-.78.8-2.07 0-2.86zM5.41 20L4 18.59l7.72-7.72 1.47 1.35L5.41 20z\"/>\n",
              "  </svg>\n",
              "      </button>\n",
              "      \n",
              "  <style>\n",
              "    .colab-df-container {\n",
              "      display:flex;\n",
              "      flex-wrap:wrap;\n",
              "      gap: 12px;\n",
              "    }\n",
              "\n",
              "    .colab-df-convert {\n",
              "      background-color: #E8F0FE;\n",
              "      border: none;\n",
              "      border-radius: 50%;\n",
              "      cursor: pointer;\n",
              "      display: none;\n",
              "      fill: #1967D2;\n",
              "      height: 32px;\n",
              "      padding: 0 0 0 0;\n",
              "      width: 32px;\n",
              "    }\n",
              "\n",
              "    .colab-df-convert:hover {\n",
              "      background-color: #E2EBFA;\n",
              "      box-shadow: 0px 1px 2px rgba(60, 64, 67, 0.3), 0px 1px 3px 1px rgba(60, 64, 67, 0.15);\n",
              "      fill: #174EA6;\n",
              "    }\n",
              "\n",
              "    [theme=dark] .colab-df-convert {\n",
              "      background-color: #3B4455;\n",
              "      fill: #D2E3FC;\n",
              "    }\n",
              "\n",
              "    [theme=dark] .colab-df-convert:hover {\n",
              "      background-color: #434B5C;\n",
              "      box-shadow: 0px 1px 3px 1px rgba(0, 0, 0, 0.15);\n",
              "      filter: drop-shadow(0px 1px 2px rgba(0, 0, 0, 0.3));\n",
              "      fill: #FFFFFF;\n",
              "    }\n",
              "  </style>\n",
              "\n",
              "      <script>\n",
              "        const buttonEl =\n",
              "          document.querySelector('#df-53b2c014-ae0b-4c69-b208-e9cf444236b4 button.colab-df-convert');\n",
              "        buttonEl.style.display =\n",
              "          google.colab.kernel.accessAllowed ? 'block' : 'none';\n",
              "\n",
              "        async function convertToInteractive(key) {\n",
              "          const element = document.querySelector('#df-53b2c014-ae0b-4c69-b208-e9cf444236b4');\n",
              "          const dataTable =\n",
              "            await google.colab.kernel.invokeFunction('convertToInteractive',\n",
              "                                                     [key], {});\n",
              "          if (!dataTable) return;\n",
              "\n",
              "          const docLinkHtml = 'Like what you see? Visit the ' +\n",
              "            '<a target=\"_blank\" href=https://colab.research.google.com/notebooks/data_table.ipynb>data table notebook</a>'\n",
              "            + ' to learn more about interactive tables.';\n",
              "          element.innerHTML = '';\n",
              "          dataTable['output_type'] = 'display_data';\n",
              "          await google.colab.output.renderOutput(dataTable, element);\n",
              "          const docLink = document.createElement('div');\n",
              "          docLink.innerHTML = docLinkHtml;\n",
              "          element.appendChild(docLink);\n",
              "        }\n",
              "      </script>\n",
              "    </div>\n",
              "  </div>\n",
              "  "
            ]
          },
          "metadata": {},
          "execution_count": 22
        }
      ],
      "source": [
        "rawdf.head(10)"
      ],
      "id": "cce5702b"
    },
    {
      "cell_type": "code",
      "execution_count": null,
      "metadata": {
        "colab": {
          "base_uri": "https://localhost:8080/"
        },
        "id": "bc8103ab",
        "outputId": "8611b2c5-c18b-4547-cf98-1d302ac473d9"
      },
      "outputs": [
        {
          "output_type": "execute_result",
          "data": {
            "text/plain": [
              "(67503, 5)"
            ]
          },
          "metadata": {},
          "execution_count": 23
        }
      ],
      "source": [
        "rawdf.shape"
      ],
      "id": "bc8103ab"
    },
    {
      "cell_type": "markdown",
      "metadata": {
        "id": "970e062d"
      },
      "source": [
        "## Part 2: Data Preprocessing and Additional Data Acquisition"
      ],
      "id": "970e062d"
    },
    {
      "cell_type": "markdown",
      "metadata": {
        "id": "1b042a15"
      },
      "source": [
        "### Remove duplicates"
      ],
      "id": "1b042a15"
    },
    {
      "cell_type": "code",
      "execution_count": null,
      "metadata": {
        "colab": {
          "base_uri": "https://localhost:8080/"
        },
        "id": "c668d928",
        "outputId": "4f321645-360c-4589-97fc-2bc22a4d0175"
      },
      "outputs": [
        {
          "output_type": "stream",
          "name": "stdout",
          "text": [
            "Are all songs unique:  True\n"
          ]
        }
      ],
      "source": [
        "# Drop song duplicates\n",
        "def drop_duplicates(df):\n",
        "    '''\n",
        "    Input: full dataframe of songs with possible duplicates\n",
        "    Output: dataframe of songs with duplicates dropped\n",
        "    '''\n",
        "    df['songartistconcat'] = df.apply(lambda row: row['artist_name']+row['track_name'],axis = 1)\n",
        "    return df.drop_duplicates('songartistconcat')\n",
        "\n",
        "rawdf= drop_duplicates(rawdf)\n",
        "\n",
        "#test\n",
        "print(\"Are all songs unique: \",len(pd.unique(rawdf.songartistconcat))==len(rawdf))"
      ],
      "id": "c668d928"
    },
    {
      "cell_type": "code",
      "execution_count": null,
      "metadata": {
        "colab": {
          "base_uri": "https://localhost:8080/"
        },
        "id": "3dc9162b",
        "outputId": "b297fd60-2273-41ee-a83e-90aebde3f340"
      },
      "outputs": [
        {
          "output_type": "execute_result",
          "data": {
            "text/plain": [
              "(34250, 6)"
            ]
          },
          "metadata": {},
          "execution_count": 10
        }
      ],
      "source": [
        "rawdf.shape\n",
        "#rawdf.head()\n"
      ],
      "id": "3dc9162b"
    },
    {
      "cell_type": "code",
      "execution_count": null,
      "metadata": {
        "id": "0bcf34b4"
      },
      "outputs": [],
      "source": [
        "# get audio features from track uri and create a data frame with artist/track name plus audio features\n",
        "\n",
        "client_id = '4a8cd8bc834b4c2bb0aac4cc89d4d990'\n",
        "client_secret = '321d379d39964c94810f3bb52e8915b1'\n",
        "redirect_uri = 'http://localhost:3001'\n",
        "\n",
        "client_credentials_manager = SpotifyClientCredentials(client_id=client_id, client_secret=client_secret)\n",
        "sp = spotipy.Spotify(client_credentials_manager=client_credentials_manager)\n",
        "\n",
        "track_uris = rawdf['track_uri'].tolist()"
      ],
      "id": "0bcf34b4"
    },
    {
      "cell_type": "code",
      "execution_count": null,
      "metadata": {
        "id": "ApHvGTJiDjlK"
      },
      "outputs": [],
      "source": [
        "#get 100 track_ids for audio_features() function\n",
        "hundred_uri_chunks = [track_uris[i:i + 100] for i in range(0, len(track_uris), 100)]\n",
        "\n",
        "audio_features = []\n",
        "\n",
        "for chunk in hundred_uri_chunks:\n",
        "    chunk_features = sp.audio_features(chunk)\n",
        "    audio_features.extend(chunk_features)\n",
        "\n",
        "df_audio_features = pd.concat([rawdf, pd.DataFrame(audio_features)], axis=1)"
      ],
      "id": "ApHvGTJiDjlK"
    },
    {
      "cell_type": "code",
      "execution_count": null,
      "metadata": {
        "colab": {
          "base_uri": "https://localhost:8080/",
          "height": 393
        },
        "id": "av7Fm61hFetM",
        "outputId": "736199c6-a252-4e9a-a7c7-01acb6a3f310"
      },
      "outputs": [
        {
          "output_type": "error",
          "ename": "KeyboardInterrupt",
          "evalue": "ignored",
          "traceback": [
            "\u001b[0;31m---------------------------------------------------------------------------\u001b[0m",
            "\u001b[0;31mKeyboardInterrupt\u001b[0m                         Traceback (most recent call last)",
            "\u001b[0;32m<ipython-input-13-4bb619ef558b>\u001b[0m in \u001b[0;36m<cell line: 6>\u001b[0;34m()\u001b[0m\n\u001b[1;32m      5\u001b[0m \u001b[0;34m\u001b[0m\u001b[0m\n\u001b[1;32m      6\u001b[0m \u001b[0;32mfor\u001b[0m \u001b[0mi\u001b[0m\u001b[0;34m,\u001b[0m \u001b[0mchunk\u001b[0m \u001b[0;32min\u001b[0m \u001b[0menumerate\u001b[0m\u001b[0;34m(\u001b[0m\u001b[0mfifty_uri_chunks\u001b[0m\u001b[0;34m)\u001b[0m\u001b[0;34m:\u001b[0m\u001b[0;34m\u001b[0m\u001b[0;34m\u001b[0m\u001b[0m\n\u001b[0;32m----> 7\u001b[0;31m     \u001b[0mchunk_tracks\u001b[0m \u001b[0;34m=\u001b[0m \u001b[0msp\u001b[0m\u001b[0;34m.\u001b[0m\u001b[0mtracks\u001b[0m\u001b[0;34m(\u001b[0m\u001b[0mchunk\u001b[0m\u001b[0;34m)\u001b[0m\u001b[0;34m[\u001b[0m\u001b[0;34m'tracks'\u001b[0m\u001b[0;34m]\u001b[0m\u001b[0;34m\u001b[0m\u001b[0;34m\u001b[0m\u001b[0m\n\u001b[0m\u001b[1;32m      8\u001b[0m     \u001b[0mmisc_info\u001b[0m\u001b[0;34m.\u001b[0m\u001b[0mextend\u001b[0m\u001b[0;34m(\u001b[0m\u001b[0mchunk_tracks\u001b[0m\u001b[0;34m)\u001b[0m\u001b[0;34m\u001b[0m\u001b[0;34m\u001b[0m\u001b[0m\n\u001b[1;32m      9\u001b[0m     \u001b[0mprint\u001b[0m\u001b[0;34m(\u001b[0m\u001b[0mchunk_tracks\u001b[0m\u001b[0;34m)\u001b[0m\u001b[0;34m\u001b[0m\u001b[0;34m\u001b[0m\u001b[0m\n",
            "\u001b[0;32m/usr/local/lib/python3.10/dist-packages/spotipy/client.py\u001b[0m in \u001b[0;36mtracks\u001b[0;34m(self, tracks, market)\u001b[0m\n\u001b[1;32m    380\u001b[0m \u001b[0;34m\u001b[0m\u001b[0m\n\u001b[1;32m    381\u001b[0m         \u001b[0mtlist\u001b[0m \u001b[0;34m=\u001b[0m \u001b[0;34m[\u001b[0m\u001b[0mself\u001b[0m\u001b[0;34m.\u001b[0m\u001b[0m_get_id\u001b[0m\u001b[0;34m(\u001b[0m\u001b[0;34m\"track\"\u001b[0m\u001b[0;34m,\u001b[0m \u001b[0mt\u001b[0m\u001b[0;34m)\u001b[0m \u001b[0;32mfor\u001b[0m \u001b[0mt\u001b[0m \u001b[0;32min\u001b[0m \u001b[0mtracks\u001b[0m\u001b[0;34m]\u001b[0m\u001b[0;34m\u001b[0m\u001b[0;34m\u001b[0m\u001b[0m\n\u001b[0;32m--> 382\u001b[0;31m         \u001b[0;32mreturn\u001b[0m \u001b[0mself\u001b[0m\u001b[0;34m.\u001b[0m\u001b[0m_get\u001b[0m\u001b[0;34m(\u001b[0m\u001b[0;34m\"tracks/?ids=\"\u001b[0m \u001b[0;34m+\u001b[0m \u001b[0;34m\",\"\u001b[0m\u001b[0;34m.\u001b[0m\u001b[0mjoin\u001b[0m\u001b[0;34m(\u001b[0m\u001b[0mtlist\u001b[0m\u001b[0;34m)\u001b[0m\u001b[0;34m,\u001b[0m \u001b[0mmarket\u001b[0m\u001b[0;34m=\u001b[0m\u001b[0mmarket\u001b[0m\u001b[0;34m)\u001b[0m\u001b[0;34m\u001b[0m\u001b[0;34m\u001b[0m\u001b[0m\n\u001b[0m\u001b[1;32m    383\u001b[0m \u001b[0;34m\u001b[0m\u001b[0m\n\u001b[1;32m    384\u001b[0m     \u001b[0;32mdef\u001b[0m \u001b[0martist\u001b[0m\u001b[0;34m(\u001b[0m\u001b[0mself\u001b[0m\u001b[0;34m,\u001b[0m \u001b[0martist_id\u001b[0m\u001b[0;34m)\u001b[0m\u001b[0;34m:\u001b[0m\u001b[0;34m\u001b[0m\u001b[0;34m\u001b[0m\u001b[0m\n",
            "\u001b[0;32m/usr/local/lib/python3.10/dist-packages/spotipy/client.py\u001b[0m in \u001b[0;36m_get\u001b[0;34m(self, url, args, payload, **kwargs)\u001b[0m\n\u001b[1;32m    321\u001b[0m             \u001b[0mkwargs\u001b[0m\u001b[0;34m.\u001b[0m\u001b[0mupdate\u001b[0m\u001b[0;34m(\u001b[0m\u001b[0margs\u001b[0m\u001b[0;34m)\u001b[0m\u001b[0;34m\u001b[0m\u001b[0;34m\u001b[0m\u001b[0m\n\u001b[1;32m    322\u001b[0m \u001b[0;34m\u001b[0m\u001b[0m\n\u001b[0;32m--> 323\u001b[0;31m         \u001b[0;32mreturn\u001b[0m \u001b[0mself\u001b[0m\u001b[0;34m.\u001b[0m\u001b[0m_internal_call\u001b[0m\u001b[0;34m(\u001b[0m\u001b[0;34m\"GET\"\u001b[0m\u001b[0;34m,\u001b[0m \u001b[0murl\u001b[0m\u001b[0;34m,\u001b[0m \u001b[0mpayload\u001b[0m\u001b[0;34m,\u001b[0m \u001b[0mkwargs\u001b[0m\u001b[0;34m)\u001b[0m\u001b[0;34m\u001b[0m\u001b[0;34m\u001b[0m\u001b[0m\n\u001b[0m\u001b[1;32m    324\u001b[0m \u001b[0;34m\u001b[0m\u001b[0m\n\u001b[1;32m    325\u001b[0m     \u001b[0;32mdef\u001b[0m \u001b[0m_post\u001b[0m\u001b[0;34m(\u001b[0m\u001b[0mself\u001b[0m\u001b[0;34m,\u001b[0m \u001b[0murl\u001b[0m\u001b[0;34m,\u001b[0m \u001b[0margs\u001b[0m\u001b[0;34m=\u001b[0m\u001b[0;32mNone\u001b[0m\u001b[0;34m,\u001b[0m \u001b[0mpayload\u001b[0m\u001b[0;34m=\u001b[0m\u001b[0;32mNone\u001b[0m\u001b[0;34m,\u001b[0m \u001b[0;34m**\u001b[0m\u001b[0mkwargs\u001b[0m\u001b[0;34m)\u001b[0m\u001b[0;34m:\u001b[0m\u001b[0;34m\u001b[0m\u001b[0;34m\u001b[0m\u001b[0m\n",
            "\u001b[0;32m/usr/local/lib/python3.10/dist-packages/spotipy/client.py\u001b[0m in \u001b[0;36m_internal_call\u001b[0;34m(self, method, url, payload, params)\u001b[0m\n\u001b[1;32m    264\u001b[0m \u001b[0;34m\u001b[0m\u001b[0m\n\u001b[1;32m    265\u001b[0m         \u001b[0;32mtry\u001b[0m\u001b[0;34m:\u001b[0m\u001b[0;34m\u001b[0m\u001b[0;34m\u001b[0m\u001b[0m\n\u001b[0;32m--> 266\u001b[0;31m             response = self._session.request(\n\u001b[0m\u001b[1;32m    267\u001b[0m                 \u001b[0mmethod\u001b[0m\u001b[0;34m,\u001b[0m \u001b[0murl\u001b[0m\u001b[0;34m,\u001b[0m \u001b[0mheaders\u001b[0m\u001b[0;34m=\u001b[0m\u001b[0mheaders\u001b[0m\u001b[0;34m,\u001b[0m \u001b[0mproxies\u001b[0m\u001b[0;34m=\u001b[0m\u001b[0mself\u001b[0m\u001b[0;34m.\u001b[0m\u001b[0mproxies\u001b[0m\u001b[0;34m,\u001b[0m\u001b[0;34m\u001b[0m\u001b[0;34m\u001b[0m\u001b[0m\n\u001b[1;32m    268\u001b[0m                 \u001b[0mtimeout\u001b[0m\u001b[0;34m=\u001b[0m\u001b[0mself\u001b[0m\u001b[0;34m.\u001b[0m\u001b[0mrequests_timeout\u001b[0m\u001b[0;34m,\u001b[0m \u001b[0;34m**\u001b[0m\u001b[0margs\u001b[0m\u001b[0;34m\u001b[0m\u001b[0;34m\u001b[0m\u001b[0m\n",
            "\u001b[0;32m/usr/local/lib/python3.10/dist-packages/requests/sessions.py\u001b[0m in \u001b[0;36mrequest\u001b[0;34m(self, method, url, params, data, headers, cookies, files, auth, timeout, allow_redirects, proxies, hooks, stream, verify, cert, json)\u001b[0m\n\u001b[1;32m    527\u001b[0m         }\n\u001b[1;32m    528\u001b[0m         \u001b[0msend_kwargs\u001b[0m\u001b[0;34m.\u001b[0m\u001b[0mupdate\u001b[0m\u001b[0;34m(\u001b[0m\u001b[0msettings\u001b[0m\u001b[0;34m)\u001b[0m\u001b[0;34m\u001b[0m\u001b[0;34m\u001b[0m\u001b[0m\n\u001b[0;32m--> 529\u001b[0;31m         \u001b[0mresp\u001b[0m \u001b[0;34m=\u001b[0m \u001b[0mself\u001b[0m\u001b[0;34m.\u001b[0m\u001b[0msend\u001b[0m\u001b[0;34m(\u001b[0m\u001b[0mprep\u001b[0m\u001b[0;34m,\u001b[0m \u001b[0;34m**\u001b[0m\u001b[0msend_kwargs\u001b[0m\u001b[0;34m)\u001b[0m\u001b[0;34m\u001b[0m\u001b[0;34m\u001b[0m\u001b[0m\n\u001b[0m\u001b[1;32m    530\u001b[0m \u001b[0;34m\u001b[0m\u001b[0m\n\u001b[1;32m    531\u001b[0m         \u001b[0;32mreturn\u001b[0m \u001b[0mresp\u001b[0m\u001b[0;34m\u001b[0m\u001b[0;34m\u001b[0m\u001b[0m\n",
            "\u001b[0;32m/usr/local/lib/python3.10/dist-packages/requests/sessions.py\u001b[0m in \u001b[0;36msend\u001b[0;34m(self, request, **kwargs)\u001b[0m\n\u001b[1;32m    643\u001b[0m \u001b[0;34m\u001b[0m\u001b[0m\n\u001b[1;32m    644\u001b[0m         \u001b[0;31m# Send the request\u001b[0m\u001b[0;34m\u001b[0m\u001b[0;34m\u001b[0m\u001b[0m\n\u001b[0;32m--> 645\u001b[0;31m         \u001b[0mr\u001b[0m \u001b[0;34m=\u001b[0m \u001b[0madapter\u001b[0m\u001b[0;34m.\u001b[0m\u001b[0msend\u001b[0m\u001b[0;34m(\u001b[0m\u001b[0mrequest\u001b[0m\u001b[0;34m,\u001b[0m \u001b[0;34m**\u001b[0m\u001b[0mkwargs\u001b[0m\u001b[0;34m)\u001b[0m\u001b[0;34m\u001b[0m\u001b[0;34m\u001b[0m\u001b[0m\n\u001b[0m\u001b[1;32m    646\u001b[0m \u001b[0;34m\u001b[0m\u001b[0m\n\u001b[1;32m    647\u001b[0m         \u001b[0;31m# Total elapsed time of the request (approximately)\u001b[0m\u001b[0;34m\u001b[0m\u001b[0;34m\u001b[0m\u001b[0m\n",
            "\u001b[0;32m/usr/local/lib/python3.10/dist-packages/requests/adapters.py\u001b[0m in \u001b[0;36msend\u001b[0;34m(self, request, stream, timeout, verify, cert, proxies)\u001b[0m\n\u001b[1;32m    438\u001b[0m         \u001b[0;32mtry\u001b[0m\u001b[0;34m:\u001b[0m\u001b[0;34m\u001b[0m\u001b[0;34m\u001b[0m\u001b[0m\n\u001b[1;32m    439\u001b[0m             \u001b[0;32mif\u001b[0m \u001b[0;32mnot\u001b[0m \u001b[0mchunked\u001b[0m\u001b[0;34m:\u001b[0m\u001b[0;34m\u001b[0m\u001b[0;34m\u001b[0m\u001b[0m\n\u001b[0;32m--> 440\u001b[0;31m                 resp = conn.urlopen(\n\u001b[0m\u001b[1;32m    441\u001b[0m                     \u001b[0mmethod\u001b[0m\u001b[0;34m=\u001b[0m\u001b[0mrequest\u001b[0m\u001b[0;34m.\u001b[0m\u001b[0mmethod\u001b[0m\u001b[0;34m,\u001b[0m\u001b[0;34m\u001b[0m\u001b[0;34m\u001b[0m\u001b[0m\n\u001b[1;32m    442\u001b[0m                     \u001b[0murl\u001b[0m\u001b[0;34m=\u001b[0m\u001b[0murl\u001b[0m\u001b[0;34m,\u001b[0m\u001b[0;34m\u001b[0m\u001b[0;34m\u001b[0m\u001b[0m\n",
            "\u001b[0;32m/usr/local/lib/python3.10/dist-packages/urllib3/connectionpool.py\u001b[0m in \u001b[0;36murlopen\u001b[0;34m(self, method, url, body, headers, retries, redirect, assert_same_host, timeout, pool_timeout, release_conn, chunked, body_pos, **response_kw)\u001b[0m\n\u001b[1;32m    874\u001b[0m \u001b[0;34m\u001b[0m\u001b[0m\n\u001b[1;32m    875\u001b[0m             \u001b[0mresponse\u001b[0m\u001b[0;34m.\u001b[0m\u001b[0mdrain_conn\u001b[0m\u001b[0;34m(\u001b[0m\u001b[0;34m)\u001b[0m\u001b[0;34m\u001b[0m\u001b[0;34m\u001b[0m\u001b[0m\n\u001b[0;32m--> 876\u001b[0;31m             \u001b[0mretries\u001b[0m\u001b[0;34m.\u001b[0m\u001b[0msleep\u001b[0m\u001b[0;34m(\u001b[0m\u001b[0mresponse\u001b[0m\u001b[0;34m)\u001b[0m\u001b[0;34m\u001b[0m\u001b[0;34m\u001b[0m\u001b[0m\n\u001b[0m\u001b[1;32m    877\u001b[0m             \u001b[0mlog\u001b[0m\u001b[0;34m.\u001b[0m\u001b[0mdebug\u001b[0m\u001b[0;34m(\u001b[0m\u001b[0;34m\"Retry: %s\"\u001b[0m\u001b[0;34m,\u001b[0m \u001b[0murl\u001b[0m\u001b[0;34m)\u001b[0m\u001b[0;34m\u001b[0m\u001b[0;34m\u001b[0m\u001b[0m\n\u001b[1;32m    878\u001b[0m             return self.urlopen(\n",
            "\u001b[0;32m/usr/local/lib/python3.10/dist-packages/urllib3/util/retry.py\u001b[0m in \u001b[0;36msleep\u001b[0;34m(self, response)\u001b[0m\n\u001b[1;32m    426\u001b[0m \u001b[0;34m\u001b[0m\u001b[0m\n\u001b[1;32m    427\u001b[0m         \u001b[0;32mif\u001b[0m \u001b[0mself\u001b[0m\u001b[0;34m.\u001b[0m\u001b[0mrespect_retry_after_header\u001b[0m \u001b[0;32mand\u001b[0m \u001b[0mresponse\u001b[0m\u001b[0;34m:\u001b[0m\u001b[0;34m\u001b[0m\u001b[0;34m\u001b[0m\u001b[0m\n\u001b[0;32m--> 428\u001b[0;31m             \u001b[0mslept\u001b[0m \u001b[0;34m=\u001b[0m \u001b[0mself\u001b[0m\u001b[0;34m.\u001b[0m\u001b[0msleep_for_retry\u001b[0m\u001b[0;34m(\u001b[0m\u001b[0mresponse\u001b[0m\u001b[0;34m)\u001b[0m\u001b[0;34m\u001b[0m\u001b[0;34m\u001b[0m\u001b[0m\n\u001b[0m\u001b[1;32m    429\u001b[0m             \u001b[0;32mif\u001b[0m \u001b[0mslept\u001b[0m\u001b[0;34m:\u001b[0m\u001b[0;34m\u001b[0m\u001b[0;34m\u001b[0m\u001b[0m\n\u001b[1;32m    430\u001b[0m                 \u001b[0;32mreturn\u001b[0m\u001b[0;34m\u001b[0m\u001b[0;34m\u001b[0m\u001b[0m\n",
            "\u001b[0;32m/usr/local/lib/python3.10/dist-packages/urllib3/util/retry.py\u001b[0m in \u001b[0;36msleep_for_retry\u001b[0;34m(self, response)\u001b[0m\n\u001b[1;32m    405\u001b[0m         \u001b[0mretry_after\u001b[0m \u001b[0;34m=\u001b[0m \u001b[0mself\u001b[0m\u001b[0;34m.\u001b[0m\u001b[0mget_retry_after\u001b[0m\u001b[0;34m(\u001b[0m\u001b[0mresponse\u001b[0m\u001b[0;34m)\u001b[0m\u001b[0;34m\u001b[0m\u001b[0;34m\u001b[0m\u001b[0m\n\u001b[1;32m    406\u001b[0m         \u001b[0;32mif\u001b[0m \u001b[0mretry_after\u001b[0m\u001b[0;34m:\u001b[0m\u001b[0;34m\u001b[0m\u001b[0;34m\u001b[0m\u001b[0m\n\u001b[0;32m--> 407\u001b[0;31m             \u001b[0mtime\u001b[0m\u001b[0;34m.\u001b[0m\u001b[0msleep\u001b[0m\u001b[0;34m(\u001b[0m\u001b[0mretry_after\u001b[0m\u001b[0;34m)\u001b[0m\u001b[0;34m\u001b[0m\u001b[0;34m\u001b[0m\u001b[0m\n\u001b[0m\u001b[1;32m    408\u001b[0m             \u001b[0;32mreturn\u001b[0m \u001b[0;32mTrue\u001b[0m\u001b[0;34m\u001b[0m\u001b[0;34m\u001b[0m\u001b[0m\n\u001b[1;32m    409\u001b[0m \u001b[0;34m\u001b[0m\u001b[0m\n",
            "\u001b[0;31mKeyboardInterrupt\u001b[0m: "
          ]
        }
      ],
      "source": [
        "#get 50 track_ids at a time for tracks(),  \n",
        "fifty_uri_chunks = [track_uris[i:i + 50] for i in range(0, len(track_uris), 50)]\n",
        "\n",
        "misc_info = []\n",
        "\n",
        "for i, chunk in enumerate(fifty_uri_chunks):\n",
        "    chunk_tracks = sp.tracks(chunk)['tracks']\n",
        "    misc_info.extend(chunk_tracks)\n",
        "    print(chunk_tracks)\n",
        "    time.sleep(5)\n",
        "    \n",
        "\n",
        "#print(misc_info.tail())\n",
        "misc_info=pd.DataFrame(list(map(dict,misc_info)))\n",
        "#from operator import itemgetter\n",
        "track_popularity=list(map(itemgetter(N),misc_info))\n",
        "track_popularity=misc_info[\"popularity\"]\n",
        "artists=misc_info[\"artists\"]\n",
        "artist_genres = []\n",
        "artist_popularity = []\n",
        "artist_ids = []\n",
        "for artist in artists:\n",
        "  #take main artist for each song\n",
        "  artist_ids.append(artist[0][\"id\"])\n",
        "\n",
        "artist_info=sp.artists(artist_ids)\n",
        "artist_info=pd.DataFrame(artist_info[\"artists\"])\n",
        "artist_popularity=artist_info[\"popularity\"]\n",
        "artist_genres=artist_info[\"genres\"]"
      ],
      "id": "av7Fm61hFetM"
    },
    {
      "cell_type": "code",
      "source": [
        "#concatenate all the relevant columns together \n",
        "df_full = pd.concat([df_audio_features, artist_genres, artist_popularity], axis=1)"
      ],
      "metadata": {
        "id": "dI6JO1goYgUW"
      },
      "id": "dI6JO1goYgUW",
      "execution_count": null,
      "outputs": []
    },
    {
      "cell_type": "code",
      "execution_count": null,
      "metadata": {
        "colab": {
          "base_uri": "https://localhost:8080/"
        },
        "id": "223f8049",
        "outputId": "d57871dc-bc56-4710-cc02-f9ad2230e5f7"
      },
      "outputs": [
        {
          "output_type": "execute_result",
          "data": {
            "text/plain": [
              "(47544, 26)"
            ]
          },
          "metadata": {},
          "execution_count": 31
        }
      ],
      "source": [
        "df_full.shape"
      ],
      "id": "223f8049"
    },
    {
      "cell_type": "code",
      "execution_count": null,
      "metadata": {
        "colab": {
          "base_uri": "https://localhost:8080/",
          "height": 629
        },
        "id": "eade3944",
        "outputId": "32e8750c-fec9-4334-8582-d57e963696fb"
      },
      "outputs": [
        {
          "output_type": "execute_result",
          "data": {
            "text/plain": [
              "  playlist_name                                  track_name  \\\n",
              "0    Throwbacks  Lose Control (feat. Ciara & Fat Man Scoop)   \n",
              "1    Throwbacks                                       Toxic   \n",
              "2    Throwbacks                               Crazy In Love   \n",
              "3    Throwbacks                              Rock Your Body   \n",
              "4    Throwbacks                                It Wasn't Me   \n",
              "\n",
              "         artist_name                                    album_name  \\\n",
              "0      Missy Elliott                                  The Cookbook   \n",
              "1     Britney Spears                                   In The Zone   \n",
              "2            Beyoncé  Dangerously In Love (Alben für die Ewigkeit)   \n",
              "3  Justin Timberlake                                     Justified   \n",
              "4             Shaggy                                      Hot Shot   \n",
              "\n",
              "                              track_uri  \\\n",
              "0  spotify:track:0UaMYEvWZi0ZqiDOoHU3YI   \n",
              "1  spotify:track:6I9VzXrHxO9rA9A5euc8Ak   \n",
              "2  spotify:track:0WqIKmW4BTrj3eJFmnCKMv   \n",
              "3  spotify:track:1AWQoqb9bSvzTjaLralEkT   \n",
              "4  spotify:track:1lzr43nnXAijIGYnCT8M8H   \n",
              "\n",
              "                                    songartistconcat  danceability  energy  \\\n",
              "0  Missy ElliottLose Control (feat. Ciara & Fat M...         0.904   0.813   \n",
              "1                                Britney SpearsToxic         0.774   0.838   \n",
              "2                               BeyoncéCrazy In Love         0.664   0.758   \n",
              "3                    Justin TimberlakeRock Your Body         0.892   0.714   \n",
              "4                                 ShaggyIt Wasn't Me         0.853   0.606   \n",
              "\n",
              "   key  loudness  ...    tempo            type                      id  \\\n",
              "0  4.0    -7.105  ...  125.461  audio_features  0UaMYEvWZi0ZqiDOoHU3YI   \n",
              "1  5.0    -3.914  ...  143.040  audio_features  6I9VzXrHxO9rA9A5euc8Ak   \n",
              "2  2.0    -6.583  ...   99.259  audio_features  0WqIKmW4BTrj3eJFmnCKMv   \n",
              "3  4.0    -6.055  ...  100.972  audio_features  1AWQoqb9bSvzTjaLralEkT   \n",
              "4  0.0    -4.596  ...   94.759  audio_features  1lzr43nnXAijIGYnCT8M8H   \n",
              "\n",
              "                                    uri  \\\n",
              "0  spotify:track:0UaMYEvWZi0ZqiDOoHU3YI   \n",
              "1  spotify:track:6I9VzXrHxO9rA9A5euc8Ak   \n",
              "2  spotify:track:0WqIKmW4BTrj3eJFmnCKMv   \n",
              "3  spotify:track:1AWQoqb9bSvzTjaLralEkT   \n",
              "4  spotify:track:1lzr43nnXAijIGYnCT8M8H   \n",
              "\n",
              "                                          track_href  \\\n",
              "0  https://api.spotify.com/v1/tracks/0UaMYEvWZi0Z...   \n",
              "1  https://api.spotify.com/v1/tracks/6I9VzXrHxO9r...   \n",
              "2  https://api.spotify.com/v1/tracks/0WqIKmW4BTrj...   \n",
              "3  https://api.spotify.com/v1/tracks/1AWQoqb9bSvz...   \n",
              "4  https://api.spotify.com/v1/tracks/1lzr43nnXAij...   \n",
              "\n",
              "                                        analysis_url  duration_ms  \\\n",
              "0  https://api.spotify.com/v1/audio-analysis/0UaM...     226864.0   \n",
              "1  https://api.spotify.com/v1/audio-analysis/6I9V...     198800.0   \n",
              "2  https://api.spotify.com/v1/audio-analysis/0WqI...     235933.0   \n",
              "3  https://api.spotify.com/v1/audio-analysis/1AWQ...     267267.0   \n",
              "4  https://api.spotify.com/v1/audio-analysis/1lzr...     227600.0   \n",
              "\n",
              "  time_signature                                             genres popularity  \n",
              "0            4.0  [dance pop, hip hop, hip pop, neo soul, pop ra...       72.0  \n",
              "1            4.0                                   [dance pop, pop]       80.0  \n",
              "2            4.0                                         [pop, r&b]       87.0  \n",
              "3            4.0                                   [dance pop, pop]       80.0  \n",
              "4            4.0                [dance pop, pop rap, reggae fusion]       73.0  \n",
              "\n",
              "[5 rows x 26 columns]"
            ],
            "text/html": [
              "\n",
              "  <div id=\"df-ba66a3d5-6802-4132-ba35-0a3104f8081c\">\n",
              "    <div class=\"colab-df-container\">\n",
              "      <div>\n",
              "<style scoped>\n",
              "    .dataframe tbody tr th:only-of-type {\n",
              "        vertical-align: middle;\n",
              "    }\n",
              "\n",
              "    .dataframe tbody tr th {\n",
              "        vertical-align: top;\n",
              "    }\n",
              "\n",
              "    .dataframe thead th {\n",
              "        text-align: right;\n",
              "    }\n",
              "</style>\n",
              "<table border=\"1\" class=\"dataframe\">\n",
              "  <thead>\n",
              "    <tr style=\"text-align: right;\">\n",
              "      <th></th>\n",
              "      <th>playlist_name</th>\n",
              "      <th>track_name</th>\n",
              "      <th>artist_name</th>\n",
              "      <th>album_name</th>\n",
              "      <th>track_uri</th>\n",
              "      <th>songartistconcat</th>\n",
              "      <th>danceability</th>\n",
              "      <th>energy</th>\n",
              "      <th>key</th>\n",
              "      <th>loudness</th>\n",
              "      <th>...</th>\n",
              "      <th>tempo</th>\n",
              "      <th>type</th>\n",
              "      <th>id</th>\n",
              "      <th>uri</th>\n",
              "      <th>track_href</th>\n",
              "      <th>analysis_url</th>\n",
              "      <th>duration_ms</th>\n",
              "      <th>time_signature</th>\n",
              "      <th>genres</th>\n",
              "      <th>popularity</th>\n",
              "    </tr>\n",
              "  </thead>\n",
              "  <tbody>\n",
              "    <tr>\n",
              "      <th>0</th>\n",
              "      <td>Throwbacks</td>\n",
              "      <td>Lose Control (feat. Ciara &amp; Fat Man Scoop)</td>\n",
              "      <td>Missy Elliott</td>\n",
              "      <td>The Cookbook</td>\n",
              "      <td>spotify:track:0UaMYEvWZi0ZqiDOoHU3YI</td>\n",
              "      <td>Missy ElliottLose Control (feat. Ciara &amp; Fat M...</td>\n",
              "      <td>0.904</td>\n",
              "      <td>0.813</td>\n",
              "      <td>4.0</td>\n",
              "      <td>-7.105</td>\n",
              "      <td>...</td>\n",
              "      <td>125.461</td>\n",
              "      <td>audio_features</td>\n",
              "      <td>0UaMYEvWZi0ZqiDOoHU3YI</td>\n",
              "      <td>spotify:track:0UaMYEvWZi0ZqiDOoHU3YI</td>\n",
              "      <td>https://api.spotify.com/v1/tracks/0UaMYEvWZi0Z...</td>\n",
              "      <td>https://api.spotify.com/v1/audio-analysis/0UaM...</td>\n",
              "      <td>226864.0</td>\n",
              "      <td>4.0</td>\n",
              "      <td>[dance pop, hip hop, hip pop, neo soul, pop ra...</td>\n",
              "      <td>72.0</td>\n",
              "    </tr>\n",
              "    <tr>\n",
              "      <th>1</th>\n",
              "      <td>Throwbacks</td>\n",
              "      <td>Toxic</td>\n",
              "      <td>Britney Spears</td>\n",
              "      <td>In The Zone</td>\n",
              "      <td>spotify:track:6I9VzXrHxO9rA9A5euc8Ak</td>\n",
              "      <td>Britney SpearsToxic</td>\n",
              "      <td>0.774</td>\n",
              "      <td>0.838</td>\n",
              "      <td>5.0</td>\n",
              "      <td>-3.914</td>\n",
              "      <td>...</td>\n",
              "      <td>143.040</td>\n",
              "      <td>audio_features</td>\n",
              "      <td>6I9VzXrHxO9rA9A5euc8Ak</td>\n",
              "      <td>spotify:track:6I9VzXrHxO9rA9A5euc8Ak</td>\n",
              "      <td>https://api.spotify.com/v1/tracks/6I9VzXrHxO9r...</td>\n",
              "      <td>https://api.spotify.com/v1/audio-analysis/6I9V...</td>\n",
              "      <td>198800.0</td>\n",
              "      <td>4.0</td>\n",
              "      <td>[dance pop, pop]</td>\n",
              "      <td>80.0</td>\n",
              "    </tr>\n",
              "    <tr>\n",
              "      <th>2</th>\n",
              "      <td>Throwbacks</td>\n",
              "      <td>Crazy In Love</td>\n",
              "      <td>Beyoncé</td>\n",
              "      <td>Dangerously In Love (Alben für die Ewigkeit)</td>\n",
              "      <td>spotify:track:0WqIKmW4BTrj3eJFmnCKMv</td>\n",
              "      <td>BeyoncéCrazy In Love</td>\n",
              "      <td>0.664</td>\n",
              "      <td>0.758</td>\n",
              "      <td>2.0</td>\n",
              "      <td>-6.583</td>\n",
              "      <td>...</td>\n",
              "      <td>99.259</td>\n",
              "      <td>audio_features</td>\n",
              "      <td>0WqIKmW4BTrj3eJFmnCKMv</td>\n",
              "      <td>spotify:track:0WqIKmW4BTrj3eJFmnCKMv</td>\n",
              "      <td>https://api.spotify.com/v1/tracks/0WqIKmW4BTrj...</td>\n",
              "      <td>https://api.spotify.com/v1/audio-analysis/0WqI...</td>\n",
              "      <td>235933.0</td>\n",
              "      <td>4.0</td>\n",
              "      <td>[pop, r&amp;b]</td>\n",
              "      <td>87.0</td>\n",
              "    </tr>\n",
              "    <tr>\n",
              "      <th>3</th>\n",
              "      <td>Throwbacks</td>\n",
              "      <td>Rock Your Body</td>\n",
              "      <td>Justin Timberlake</td>\n",
              "      <td>Justified</td>\n",
              "      <td>spotify:track:1AWQoqb9bSvzTjaLralEkT</td>\n",
              "      <td>Justin TimberlakeRock Your Body</td>\n",
              "      <td>0.892</td>\n",
              "      <td>0.714</td>\n",
              "      <td>4.0</td>\n",
              "      <td>-6.055</td>\n",
              "      <td>...</td>\n",
              "      <td>100.972</td>\n",
              "      <td>audio_features</td>\n",
              "      <td>1AWQoqb9bSvzTjaLralEkT</td>\n",
              "      <td>spotify:track:1AWQoqb9bSvzTjaLralEkT</td>\n",
              "      <td>https://api.spotify.com/v1/tracks/1AWQoqb9bSvz...</td>\n",
              "      <td>https://api.spotify.com/v1/audio-analysis/1AWQ...</td>\n",
              "      <td>267267.0</td>\n",
              "      <td>4.0</td>\n",
              "      <td>[dance pop, pop]</td>\n",
              "      <td>80.0</td>\n",
              "    </tr>\n",
              "    <tr>\n",
              "      <th>4</th>\n",
              "      <td>Throwbacks</td>\n",
              "      <td>It Wasn't Me</td>\n",
              "      <td>Shaggy</td>\n",
              "      <td>Hot Shot</td>\n",
              "      <td>spotify:track:1lzr43nnXAijIGYnCT8M8H</td>\n",
              "      <td>ShaggyIt Wasn't Me</td>\n",
              "      <td>0.853</td>\n",
              "      <td>0.606</td>\n",
              "      <td>0.0</td>\n",
              "      <td>-4.596</td>\n",
              "      <td>...</td>\n",
              "      <td>94.759</td>\n",
              "      <td>audio_features</td>\n",
              "      <td>1lzr43nnXAijIGYnCT8M8H</td>\n",
              "      <td>spotify:track:1lzr43nnXAijIGYnCT8M8H</td>\n",
              "      <td>https://api.spotify.com/v1/tracks/1lzr43nnXAij...</td>\n",
              "      <td>https://api.spotify.com/v1/audio-analysis/1lzr...</td>\n",
              "      <td>227600.0</td>\n",
              "      <td>4.0</td>\n",
              "      <td>[dance pop, pop rap, reggae fusion]</td>\n",
              "      <td>73.0</td>\n",
              "    </tr>\n",
              "  </tbody>\n",
              "</table>\n",
              "<p>5 rows × 26 columns</p>\n",
              "</div>\n",
              "      <button class=\"colab-df-convert\" onclick=\"convertToInteractive('df-ba66a3d5-6802-4132-ba35-0a3104f8081c')\"\n",
              "              title=\"Convert this dataframe to an interactive table.\"\n",
              "              style=\"display:none;\">\n",
              "        \n",
              "  <svg xmlns=\"http://www.w3.org/2000/svg\" height=\"24px\"viewBox=\"0 0 24 24\"\n",
              "       width=\"24px\">\n",
              "    <path d=\"M0 0h24v24H0V0z\" fill=\"none\"/>\n",
              "    <path d=\"M18.56 5.44l.94 2.06.94-2.06 2.06-.94-2.06-.94-.94-2.06-.94 2.06-2.06.94zm-11 1L8.5 8.5l.94-2.06 2.06-.94-2.06-.94L8.5 2.5l-.94 2.06-2.06.94zm10 10l.94 2.06.94-2.06 2.06-.94-2.06-.94-.94-2.06-.94 2.06-2.06.94z\"/><path d=\"M17.41 7.96l-1.37-1.37c-.4-.4-.92-.59-1.43-.59-.52 0-1.04.2-1.43.59L10.3 9.45l-7.72 7.72c-.78.78-.78 2.05 0 2.83L4 21.41c.39.39.9.59 1.41.59.51 0 1.02-.2 1.41-.59l7.78-7.78 2.81-2.81c.8-.78.8-2.07 0-2.86zM5.41 20L4 18.59l7.72-7.72 1.47 1.35L5.41 20z\"/>\n",
              "  </svg>\n",
              "      </button>\n",
              "      \n",
              "  <style>\n",
              "    .colab-df-container {\n",
              "      display:flex;\n",
              "      flex-wrap:wrap;\n",
              "      gap: 12px;\n",
              "    }\n",
              "\n",
              "    .colab-df-convert {\n",
              "      background-color: #E8F0FE;\n",
              "      border: none;\n",
              "      border-radius: 50%;\n",
              "      cursor: pointer;\n",
              "      display: none;\n",
              "      fill: #1967D2;\n",
              "      height: 32px;\n",
              "      padding: 0 0 0 0;\n",
              "      width: 32px;\n",
              "    }\n",
              "\n",
              "    .colab-df-convert:hover {\n",
              "      background-color: #E2EBFA;\n",
              "      box-shadow: 0px 1px 2px rgba(60, 64, 67, 0.3), 0px 1px 3px 1px rgba(60, 64, 67, 0.15);\n",
              "      fill: #174EA6;\n",
              "    }\n",
              "\n",
              "    [theme=dark] .colab-df-convert {\n",
              "      background-color: #3B4455;\n",
              "      fill: #D2E3FC;\n",
              "    }\n",
              "\n",
              "    [theme=dark] .colab-df-convert:hover {\n",
              "      background-color: #434B5C;\n",
              "      box-shadow: 0px 1px 3px 1px rgba(0, 0, 0, 0.15);\n",
              "      filter: drop-shadow(0px 1px 2px rgba(0, 0, 0, 0.3));\n",
              "      fill: #FFFFFF;\n",
              "    }\n",
              "  </style>\n",
              "\n",
              "      <script>\n",
              "        const buttonEl =\n",
              "          document.querySelector('#df-ba66a3d5-6802-4132-ba35-0a3104f8081c button.colab-df-convert');\n",
              "        buttonEl.style.display =\n",
              "          google.colab.kernel.accessAllowed ? 'block' : 'none';\n",
              "\n",
              "        async function convertToInteractive(key) {\n",
              "          const element = document.querySelector('#df-ba66a3d5-6802-4132-ba35-0a3104f8081c');\n",
              "          const dataTable =\n",
              "            await google.colab.kernel.invokeFunction('convertToInteractive',\n",
              "                                                     [key], {});\n",
              "          if (!dataTable) return;\n",
              "\n",
              "          const docLinkHtml = 'Like what you see? Visit the ' +\n",
              "            '<a target=\"_blank\" href=https://colab.research.google.com/notebooks/data_table.ipynb>data table notebook</a>'\n",
              "            + ' to learn more about interactive tables.';\n",
              "          element.innerHTML = '';\n",
              "          dataTable['output_type'] = 'display_data';\n",
              "          await google.colab.output.renderOutput(dataTable, element);\n",
              "          const docLink = document.createElement('div');\n",
              "          docLink.innerHTML = docLinkHtml;\n",
              "          element.appendChild(docLink);\n",
              "        }\n",
              "      </script>\n",
              "    </div>\n",
              "  </div>\n",
              "  "
            ]
          },
          "metadata": {},
          "execution_count": 32
        }
      ],
      "source": [
        "df_full.head()"
      ],
      "id": "eade3944"
    },
    {
      "cell_type": "markdown",
      "metadata": {
        "id": "d991077c"
      },
      "source": [
        "### Feature Selection"
      ],
      "id": "d991077c"
    },
    {
      "cell_type": "code",
      "execution_count": null,
      "metadata": {
        "id": "fc172c1c",
        "outputId": "cb3a83da-99f3-4541-d8ac-2de2243f4e4f",
        "colab": {
          "base_uri": "https://localhost:8080/"
        }
      },
      "outputs": [
        {
          "output_type": "stream",
          "name": "stdout",
          "text": [
            "Are all songs unique:  True\n"
          ]
        }
      ],
      "source": [
        "df_full = drop_duplicates(df_full)\n",
        "print(\"Are all songs unique: \",len(pd.unique(df_full.songartistconcat))==len(df_full))\n",
        "\n",
        "drop=['track_uri','songartistconcat','type','uri','track_href','analysis_url','duration_ms',]\n",
        "df_full=df_full.drop(drop,axis=1)\n"
      ],
      "id": "fc172c1c"
    },
    {
      "cell_type": "code",
      "execution_count": null,
      "metadata": {
        "id": "8ff2d868",
        "outputId": "1f5219c1-5f58-4d80-dda0-03497454d327",
        "colab": {
          "base_uri": "https://localhost:8080/"
        }
      },
      "outputs": [
        {
          "output_type": "execute_result",
          "data": {
            "text/plain": [
              "(34251, 19)"
            ]
          },
          "metadata": {},
          "execution_count": 52
        }
      ],
      "source": [
        "df_full.shape"
      ],
      "id": "8ff2d868"
    },
    {
      "cell_type": "code",
      "source": [
        "#drop na's, just in case\n",
        "df=df_full.dropna()\n",
        "df.shape"
      ],
      "metadata": {
        "colab": {
          "base_uri": "https://localhost:8080/"
        },
        "id": "oUqtmpMpWWTv",
        "outputId": "27138d3f-9566-4c6d-e51b-7f8df418864d"
      },
      "id": "oUqtmpMpWWTv",
      "execution_count": null,
      "outputs": [
        {
          "output_type": "execute_result",
          "data": {
            "text/plain": [
              "(40, 26)"
            ]
          },
          "metadata": {},
          "execution_count": 83
        }
      ]
    },
    {
      "cell_type": "code",
      "source": [
        "#convert genres column from string to list of genres\n",
        "\n",
        "df['genres_list']=df['genres'].apply(lambda x: str(x).split(\", \"))\n",
        "\n",
        "print(len(df['genres_list'][0]))"
      ],
      "metadata": {
        "id": "XxuskcMPRGI7",
        "colab": {
          "base_uri": "https://localhost:8080/"
        },
        "outputId": "28c4a4b1-78db-423f-ab94-e619d8b30af3"
      },
      "id": "XxuskcMPRGI7",
      "execution_count": null,
      "outputs": [
        {
          "output_type": "stream",
          "name": "stdout",
          "text": [
            "9\n"
          ]
        },
        {
          "output_type": "execute_result",
          "data": {
            "text/plain": [
              "0        [['dance pop', 'hip hop', 'hip pop', 'neo soul...\n",
              "1                                   [['dance pop', 'pop']]\n",
              "2                                         [['pop', 'r&b']]\n",
              "3                                   [['dance pop', 'pop']]\n",
              "4              [['dance pop', 'pop rap', 'reggae fusion']]\n",
              "                               ...                        \n",
              "67499                                                [nan]\n",
              "67500                                                [nan]\n",
              "67501                                                [nan]\n",
              "67502                                                [nan]\n",
              "51                                                   [nan]\n",
              "Name: genres_list, Length: 34251, dtype: object"
            ]
          },
          "metadata": {},
          "execution_count": 69
        }
      ]
    },
    {
      "cell_type": "markdown",
      "source": [
        "## Part 3: Feature Engineering"
      ],
      "metadata": {
        "id": "HtQ7zC3kQ-jH"
      },
      "id": "HtQ7zC3kQ-jH"
    },
    {
      "cell_type": "code",
      "source": [
        "def ohe_prep(df, column, new_name): \n",
        "    ''' \n",
        "    Create one-hot-encoded features of a specific column\n",
        "    \n",
        "    Input: \n",
        "    df (pandas dataframe): Spotify Dataframe\n",
        "    column (str): Column to be processed\n",
        "    new_name (str): new column name to be used\n",
        "        \n",
        "    Output: \n",
        "    tf_df: One-hot encoded features \n",
        "    '''\n",
        "    \n",
        "    #get_dummies() converts categorical variable into dummy/indicator variables\n",
        "    tf_df = pd.get_dummies(df[column])\n",
        "    print(tf_df)\n",
        "    feature_names = tf_df.columns\n",
        "    tf_df.columns = [new_name + \"|\" + str(i) for i in feature_names]\n",
        "    tf_df.reset_index(drop = True, inplace = True)    \n",
        "    return tf_df"
      ],
      "metadata": {
        "id": "cC4fgynTTCDu"
      },
      "id": "cC4fgynTTCDu",
      "execution_count": null,
      "outputs": []
    },
    {
      "cell_type": "code",
      "source": [
        "type(str(df['genres'][0]))"
      ],
      "metadata": {
        "colab": {
          "base_uri": "https://localhost:8080/"
        },
        "id": "iMwF_HGvc2fI",
        "outputId": "17c219c0-04f7-461a-ab45-4e081a1f61ea"
      },
      "id": "iMwF_HGvc2fI",
      "execution_count": null,
      "outputs": [
        {
          "output_type": "execute_result",
          "data": {
            "text/plain": [
              "str"
            ]
          },
          "metadata": {},
          "execution_count": 58
        }
      ]
    },
    {
      "cell_type": "markdown",
      "source": [
        "Genres - one hot encoding, tf-idf version"
      ],
      "metadata": {
        "id": "3_YNCFXAVWgH"
      },
      "id": "3_YNCFXAVWgH"
    },
    {
      "cell_type": "code",
      "source": [
        "# TF-IDF implementation: find most important genre for each song and that genre's prevalence across all songs to weight genre accordingly\n",
        "\n",
        "#function from scikit-learn\n",
        "tfidf = TfidfVectorizer()\n",
        "\n",
        "#get weighted values for each genre\n",
        "tfidf_matrix =  tfidf.fit_transform(df['genres'].apply(lambda x: \" \".join(str(x))))\n",
        "genre_df = pd.DataFrame(tfidf_matrix.toarray())\n",
        "\n",
        "genre_df.columns = ['genre' + \"|\" + i for i in tfidf.get_feature_names_out()]\n",
        "if 'genre|unknown' in genre_df.columns:\n",
        "  genre_df.drop(columns='genre|unknown') # Drop unknown genre\n",
        "\n",
        "#delete index col\n",
        "genre_df.reset_index(drop = True, inplace=True)\n",
        "\n",
        "#view for first row\n",
        "print(genre_df.iloc[0])"
      ],
      "metadata": {
        "id": "D2eRoEllUTjd",
        "colab": {
          "base_uri": "https://localhost:8080/",
          "height": 411
        },
        "outputId": "404980ab-d54f-451a-b0f3-04df7bc6438a"
      },
      "id": "D2eRoEllUTjd",
      "execution_count": null,
      "outputs": [
        {
          "output_type": "error",
          "ename": "ValueError",
          "evalue": "ignored",
          "traceback": [
            "\u001b[0;31m---------------------------------------------------------------------------\u001b[0m",
            "\u001b[0;31mValueError\u001b[0m                                Traceback (most recent call last)",
            "\u001b[0;32m<ipython-input-59-8886f208b93e>\u001b[0m in \u001b[0;36m<cell line: 7>\u001b[0;34m()\u001b[0m\n\u001b[1;32m      5\u001b[0m \u001b[0;34m\u001b[0m\u001b[0m\n\u001b[1;32m      6\u001b[0m \u001b[0;31m#get weighted values for each genre\u001b[0m\u001b[0;34m\u001b[0m\u001b[0;34m\u001b[0m\u001b[0m\n\u001b[0;32m----> 7\u001b[0;31m \u001b[0mtfidf_matrix\u001b[0m \u001b[0;34m=\u001b[0m  \u001b[0mtfidf\u001b[0m\u001b[0;34m.\u001b[0m\u001b[0mfit_transform\u001b[0m\u001b[0;34m(\u001b[0m\u001b[0mdf\u001b[0m\u001b[0;34m[\u001b[0m\u001b[0;34m'genres'\u001b[0m\u001b[0;34m]\u001b[0m\u001b[0;34m.\u001b[0m\u001b[0mapply\u001b[0m\u001b[0;34m(\u001b[0m\u001b[0;32mlambda\u001b[0m \u001b[0mx\u001b[0m\u001b[0;34m:\u001b[0m \u001b[0;34m\" \"\u001b[0m\u001b[0;34m.\u001b[0m\u001b[0mjoin\u001b[0m\u001b[0;34m(\u001b[0m\u001b[0mstr\u001b[0m\u001b[0;34m(\u001b[0m\u001b[0mx\u001b[0m\u001b[0;34m)\u001b[0m\u001b[0;34m)\u001b[0m\u001b[0;34m)\u001b[0m\u001b[0;34m)\u001b[0m\u001b[0;34m\u001b[0m\u001b[0;34m\u001b[0m\u001b[0m\n\u001b[0m\u001b[1;32m      8\u001b[0m \u001b[0mgenre_df\u001b[0m \u001b[0;34m=\u001b[0m \u001b[0mpd\u001b[0m\u001b[0;34m.\u001b[0m\u001b[0mDataFrame\u001b[0m\u001b[0;34m(\u001b[0m\u001b[0mtfidf_matrix\u001b[0m\u001b[0;34m.\u001b[0m\u001b[0mtoarray\u001b[0m\u001b[0;34m(\u001b[0m\u001b[0;34m)\u001b[0m\u001b[0;34m)\u001b[0m\u001b[0;34m\u001b[0m\u001b[0;34m\u001b[0m\u001b[0m\n\u001b[1;32m      9\u001b[0m \u001b[0;34m\u001b[0m\u001b[0m\n",
            "\u001b[0;32m/usr/local/lib/python3.10/dist-packages/sklearn/feature_extraction/text.py\u001b[0m in \u001b[0;36mfit_transform\u001b[0;34m(self, raw_documents, y)\u001b[0m\n\u001b[1;32m   2131\u001b[0m             \u001b[0msublinear_tf\u001b[0m\u001b[0;34m=\u001b[0m\u001b[0mself\u001b[0m\u001b[0;34m.\u001b[0m\u001b[0msublinear_tf\u001b[0m\u001b[0;34m,\u001b[0m\u001b[0;34m\u001b[0m\u001b[0;34m\u001b[0m\u001b[0m\n\u001b[1;32m   2132\u001b[0m         )\n\u001b[0;32m-> 2133\u001b[0;31m         \u001b[0mX\u001b[0m \u001b[0;34m=\u001b[0m \u001b[0msuper\u001b[0m\u001b[0;34m(\u001b[0m\u001b[0;34m)\u001b[0m\u001b[0;34m.\u001b[0m\u001b[0mfit_transform\u001b[0m\u001b[0;34m(\u001b[0m\u001b[0mraw_documents\u001b[0m\u001b[0;34m)\u001b[0m\u001b[0;34m\u001b[0m\u001b[0;34m\u001b[0m\u001b[0m\n\u001b[0m\u001b[1;32m   2134\u001b[0m         \u001b[0mself\u001b[0m\u001b[0;34m.\u001b[0m\u001b[0m_tfidf\u001b[0m\u001b[0;34m.\u001b[0m\u001b[0mfit\u001b[0m\u001b[0;34m(\u001b[0m\u001b[0mX\u001b[0m\u001b[0;34m)\u001b[0m\u001b[0;34m\u001b[0m\u001b[0;34m\u001b[0m\u001b[0m\n\u001b[1;32m   2135\u001b[0m         \u001b[0;31m# X is already a transformed view of raw_documents so\u001b[0m\u001b[0;34m\u001b[0m\u001b[0;34m\u001b[0m\u001b[0m\n",
            "\u001b[0;32m/usr/local/lib/python3.10/dist-packages/sklearn/feature_extraction/text.py\u001b[0m in \u001b[0;36mfit_transform\u001b[0;34m(self, raw_documents, y)\u001b[0m\n\u001b[1;32m   1386\u001b[0m                     \u001b[0;32mbreak\u001b[0m\u001b[0;34m\u001b[0m\u001b[0;34m\u001b[0m\u001b[0m\n\u001b[1;32m   1387\u001b[0m \u001b[0;34m\u001b[0m\u001b[0m\n\u001b[0;32m-> 1388\u001b[0;31m         \u001b[0mvocabulary\u001b[0m\u001b[0;34m,\u001b[0m \u001b[0mX\u001b[0m \u001b[0;34m=\u001b[0m \u001b[0mself\u001b[0m\u001b[0;34m.\u001b[0m\u001b[0m_count_vocab\u001b[0m\u001b[0;34m(\u001b[0m\u001b[0mraw_documents\u001b[0m\u001b[0;34m,\u001b[0m \u001b[0mself\u001b[0m\u001b[0;34m.\u001b[0m\u001b[0mfixed_vocabulary_\u001b[0m\u001b[0;34m)\u001b[0m\u001b[0;34m\u001b[0m\u001b[0;34m\u001b[0m\u001b[0m\n\u001b[0m\u001b[1;32m   1389\u001b[0m \u001b[0;34m\u001b[0m\u001b[0m\n\u001b[1;32m   1390\u001b[0m         \u001b[0;32mif\u001b[0m \u001b[0mself\u001b[0m\u001b[0;34m.\u001b[0m\u001b[0mbinary\u001b[0m\u001b[0;34m:\u001b[0m\u001b[0;34m\u001b[0m\u001b[0;34m\u001b[0m\u001b[0m\n",
            "\u001b[0;32m/usr/local/lib/python3.10/dist-packages/sklearn/feature_extraction/text.py\u001b[0m in \u001b[0;36m_count_vocab\u001b[0;34m(self, raw_documents, fixed_vocab)\u001b[0m\n\u001b[1;32m   1292\u001b[0m             \u001b[0mvocabulary\u001b[0m \u001b[0;34m=\u001b[0m \u001b[0mdict\u001b[0m\u001b[0;34m(\u001b[0m\u001b[0mvocabulary\u001b[0m\u001b[0;34m)\u001b[0m\u001b[0;34m\u001b[0m\u001b[0;34m\u001b[0m\u001b[0m\n\u001b[1;32m   1293\u001b[0m             \u001b[0;32mif\u001b[0m \u001b[0;32mnot\u001b[0m \u001b[0mvocabulary\u001b[0m\u001b[0;34m:\u001b[0m\u001b[0;34m\u001b[0m\u001b[0;34m\u001b[0m\u001b[0m\n\u001b[0;32m-> 1294\u001b[0;31m                 raise ValueError(\n\u001b[0m\u001b[1;32m   1295\u001b[0m                     \u001b[0;34m\"empty vocabulary; perhaps the documents only contain stop words\"\u001b[0m\u001b[0;34m\u001b[0m\u001b[0;34m\u001b[0m\u001b[0m\n\u001b[1;32m   1296\u001b[0m                 )\n",
            "\u001b[0;31mValueError\u001b[0m: empty vocabulary; perhaps the documents only contain stop words"
          ]
        }
      ]
    },
    {
      "cell_type": "code",
      "source": [
        "df.head(100)"
      ],
      "metadata": {
        "colab": {
          "base_uri": "https://localhost:8080/",
          "height": 1226
        },
        "id": "c3JWl19DcT1l",
        "outputId": "7d786242-e00d-4b65-f2c2-a7114312050e"
      },
      "id": "c3JWl19DcT1l",
      "execution_count": null,
      "outputs": [
        {
          "output_type": "execute_result",
          "data": {
            "text/plain": [
              "    playlist_name                                  track_name  \\\n",
              "0      Throwbacks  Lose Control (feat. Ciara & Fat Man Scoop)   \n",
              "1      Throwbacks                                       Toxic   \n",
              "2      Throwbacks                               Crazy In Love   \n",
              "3      Throwbacks                              Rock Your Body   \n",
              "4      Throwbacks                                It Wasn't Me   \n",
              "..            ...                                         ...   \n",
              "96        korean                                      Ah-Choo   \n",
              "97        korean                                      BREATHE   \n",
              "98        korean                                  FXXK WIT US   \n",
              "99        korean                              I Will Show You   \n",
              "100       korean                                      Take Me   \n",
              "\n",
              "           artist_name                                    album_name  \\\n",
              "0        Missy Elliott                                  The Cookbook   \n",
              "1       Britney Spears                                   In The Zone   \n",
              "2              Beyoncé  Dangerously In Love (Alben für die Ewigkeit)   \n",
              "3    Justin Timberlake                                     Justified   \n",
              "4               Shaggy                                      Hot Shot   \n",
              "..                 ...                                           ...   \n",
              "96             Lovelyz                                      Lovelyz8   \n",
              "97              LEE HI                                      SEOULITE   \n",
              "98              LEE HI                                      SEOULITE   \n",
              "99               Ailee                                           U&I   \n",
              "100               Miso                                       Take Me   \n",
              "\n",
              "     danceability  energy  key  loudness  mode  speechiness  acousticness  \\\n",
              "0           0.904   0.813  4.0    -7.105   0.0       0.1210       0.03110   \n",
              "1           0.774   0.838  5.0    -3.914   0.0       0.1140       0.02490   \n",
              "2           0.664   0.758  2.0    -6.583   0.0       0.2100       0.00238   \n",
              "3           0.892   0.714  4.0    -6.055   0.0       0.1410       0.20100   \n",
              "4           0.853   0.606  0.0    -4.596   1.0       0.0713       0.05610   \n",
              "..            ...     ...  ...       ...   ...          ...           ...   \n",
              "96          0.609   0.246  8.0    -8.449   1.0       0.0376       0.78400   \n",
              "97          0.763   0.658  5.0    -5.643   0.0       0.1470       0.02580   \n",
              "98          0.604   0.875  7.0    -1.995   0.0       0.0539       0.24400   \n",
              "99          0.756   0.426  1.0    -8.750   0.0       0.0745       0.50400   \n",
              "100         0.628   0.284  4.0   -11.629   1.0       0.1020       0.54400   \n",
              "\n",
              "     instrumentalness  liveness  valence    tempo                      id  \\\n",
              "0            0.006970    0.0471    0.810  125.461  0UaMYEvWZi0ZqiDOoHU3YI   \n",
              "1            0.025000    0.2420    0.924  143.040  6I9VzXrHxO9rA9A5euc8Ak   \n",
              "2            0.000000    0.0598    0.701   99.259  0WqIKmW4BTrj3eJFmnCKMv   \n",
              "3            0.000234    0.0521    0.817  100.972  1AWQoqb9bSvzTjaLralEkT   \n",
              "4            0.000000    0.3130    0.654   94.759  1lzr43nnXAijIGYnCT8M8H   \n",
              "..                ...       ...      ...      ...                     ...   \n",
              "96           0.000000    0.0825    0.371  123.773  06L1apH8kLF47dbhZ4Zg9A   \n",
              "97           0.000000    0.0915    0.389   80.038  2qWgqPdW1OiAP8KSBH1b93   \n",
              "98           0.000000    0.1140    0.219  129.925  2PTf3zh9UUsgdxQ5b0eXg8   \n",
              "99           0.039400    0.0884    0.355  135.960  7tIJDktakabGoHjwTTa35W   \n",
              "100          0.000005    0.1210    0.354   91.131  6ToAD7ajJidQTDn72OncDG   \n",
              "\n",
              "     time_signature                                             genres  \\\n",
              "0               4.0  [dance pop, hip hop, hip pop, neo soul, pop ra...   \n",
              "1               4.0                                   [dance pop, pop]   \n",
              "2               4.0                                         [pop, r&b]   \n",
              "3               4.0                                   [dance pop, pop]   \n",
              "4               4.0                [dance pop, pop rap, reggae fusion]   \n",
              "..              ...                                                ...   \n",
              "96              4.0                                                NaN   \n",
              "97              4.0                                                NaN   \n",
              "98              4.0                                                NaN   \n",
              "99              4.0                                                NaN   \n",
              "100             4.0                                                NaN   \n",
              "\n",
              "     popularity                                        genres_list  \n",
              "0          72.0  [['dance pop', 'hip hop', 'hip pop', 'neo soul...  \n",
              "1          80.0                             [['dance pop', 'pop']]  \n",
              "2          87.0                                   [['pop', 'r&b']]  \n",
              "3          80.0                             [['dance pop', 'pop']]  \n",
              "4          73.0        [['dance pop', 'pop rap', 'reggae fusion']]  \n",
              "..          ...                                                ...  \n",
              "96          NaN                                              [nan]  \n",
              "97          NaN                                              [nan]  \n",
              "98          NaN                                              [nan]  \n",
              "99          NaN                                              [nan]  \n",
              "100         NaN                                              [nan]  \n",
              "\n",
              "[100 rows x 20 columns]"
            ],
            "text/html": [
              "\n",
              "  <div id=\"df-9ae45ec6-4cca-4b5a-a19b-b2d0c01cd887\">\n",
              "    <div class=\"colab-df-container\">\n",
              "      <div>\n",
              "<style scoped>\n",
              "    .dataframe tbody tr th:only-of-type {\n",
              "        vertical-align: middle;\n",
              "    }\n",
              "\n",
              "    .dataframe tbody tr th {\n",
              "        vertical-align: top;\n",
              "    }\n",
              "\n",
              "    .dataframe thead th {\n",
              "        text-align: right;\n",
              "    }\n",
              "</style>\n",
              "<table border=\"1\" class=\"dataframe\">\n",
              "  <thead>\n",
              "    <tr style=\"text-align: right;\">\n",
              "      <th></th>\n",
              "      <th>playlist_name</th>\n",
              "      <th>track_name</th>\n",
              "      <th>artist_name</th>\n",
              "      <th>album_name</th>\n",
              "      <th>danceability</th>\n",
              "      <th>energy</th>\n",
              "      <th>key</th>\n",
              "      <th>loudness</th>\n",
              "      <th>mode</th>\n",
              "      <th>speechiness</th>\n",
              "      <th>acousticness</th>\n",
              "      <th>instrumentalness</th>\n",
              "      <th>liveness</th>\n",
              "      <th>valence</th>\n",
              "      <th>tempo</th>\n",
              "      <th>id</th>\n",
              "      <th>time_signature</th>\n",
              "      <th>genres</th>\n",
              "      <th>popularity</th>\n",
              "      <th>genres_list</th>\n",
              "    </tr>\n",
              "  </thead>\n",
              "  <tbody>\n",
              "    <tr>\n",
              "      <th>0</th>\n",
              "      <td>Throwbacks</td>\n",
              "      <td>Lose Control (feat. Ciara &amp; Fat Man Scoop)</td>\n",
              "      <td>Missy Elliott</td>\n",
              "      <td>The Cookbook</td>\n",
              "      <td>0.904</td>\n",
              "      <td>0.813</td>\n",
              "      <td>4.0</td>\n",
              "      <td>-7.105</td>\n",
              "      <td>0.0</td>\n",
              "      <td>0.1210</td>\n",
              "      <td>0.03110</td>\n",
              "      <td>0.006970</td>\n",
              "      <td>0.0471</td>\n",
              "      <td>0.810</td>\n",
              "      <td>125.461</td>\n",
              "      <td>0UaMYEvWZi0ZqiDOoHU3YI</td>\n",
              "      <td>4.0</td>\n",
              "      <td>[dance pop, hip hop, hip pop, neo soul, pop ra...</td>\n",
              "      <td>72.0</td>\n",
              "      <td>[['dance pop', 'hip hop', 'hip pop', 'neo soul...</td>\n",
              "    </tr>\n",
              "    <tr>\n",
              "      <th>1</th>\n",
              "      <td>Throwbacks</td>\n",
              "      <td>Toxic</td>\n",
              "      <td>Britney Spears</td>\n",
              "      <td>In The Zone</td>\n",
              "      <td>0.774</td>\n",
              "      <td>0.838</td>\n",
              "      <td>5.0</td>\n",
              "      <td>-3.914</td>\n",
              "      <td>0.0</td>\n",
              "      <td>0.1140</td>\n",
              "      <td>0.02490</td>\n",
              "      <td>0.025000</td>\n",
              "      <td>0.2420</td>\n",
              "      <td>0.924</td>\n",
              "      <td>143.040</td>\n",
              "      <td>6I9VzXrHxO9rA9A5euc8Ak</td>\n",
              "      <td>4.0</td>\n",
              "      <td>[dance pop, pop]</td>\n",
              "      <td>80.0</td>\n",
              "      <td>[['dance pop', 'pop']]</td>\n",
              "    </tr>\n",
              "    <tr>\n",
              "      <th>2</th>\n",
              "      <td>Throwbacks</td>\n",
              "      <td>Crazy In Love</td>\n",
              "      <td>Beyoncé</td>\n",
              "      <td>Dangerously In Love (Alben für die Ewigkeit)</td>\n",
              "      <td>0.664</td>\n",
              "      <td>0.758</td>\n",
              "      <td>2.0</td>\n",
              "      <td>-6.583</td>\n",
              "      <td>0.0</td>\n",
              "      <td>0.2100</td>\n",
              "      <td>0.00238</td>\n",
              "      <td>0.000000</td>\n",
              "      <td>0.0598</td>\n",
              "      <td>0.701</td>\n",
              "      <td>99.259</td>\n",
              "      <td>0WqIKmW4BTrj3eJFmnCKMv</td>\n",
              "      <td>4.0</td>\n",
              "      <td>[pop, r&amp;b]</td>\n",
              "      <td>87.0</td>\n",
              "      <td>[['pop', 'r&amp;b']]</td>\n",
              "    </tr>\n",
              "    <tr>\n",
              "      <th>3</th>\n",
              "      <td>Throwbacks</td>\n",
              "      <td>Rock Your Body</td>\n",
              "      <td>Justin Timberlake</td>\n",
              "      <td>Justified</td>\n",
              "      <td>0.892</td>\n",
              "      <td>0.714</td>\n",
              "      <td>4.0</td>\n",
              "      <td>-6.055</td>\n",
              "      <td>0.0</td>\n",
              "      <td>0.1410</td>\n",
              "      <td>0.20100</td>\n",
              "      <td>0.000234</td>\n",
              "      <td>0.0521</td>\n",
              "      <td>0.817</td>\n",
              "      <td>100.972</td>\n",
              "      <td>1AWQoqb9bSvzTjaLralEkT</td>\n",
              "      <td>4.0</td>\n",
              "      <td>[dance pop, pop]</td>\n",
              "      <td>80.0</td>\n",
              "      <td>[['dance pop', 'pop']]</td>\n",
              "    </tr>\n",
              "    <tr>\n",
              "      <th>4</th>\n",
              "      <td>Throwbacks</td>\n",
              "      <td>It Wasn't Me</td>\n",
              "      <td>Shaggy</td>\n",
              "      <td>Hot Shot</td>\n",
              "      <td>0.853</td>\n",
              "      <td>0.606</td>\n",
              "      <td>0.0</td>\n",
              "      <td>-4.596</td>\n",
              "      <td>1.0</td>\n",
              "      <td>0.0713</td>\n",
              "      <td>0.05610</td>\n",
              "      <td>0.000000</td>\n",
              "      <td>0.3130</td>\n",
              "      <td>0.654</td>\n",
              "      <td>94.759</td>\n",
              "      <td>1lzr43nnXAijIGYnCT8M8H</td>\n",
              "      <td>4.0</td>\n",
              "      <td>[dance pop, pop rap, reggae fusion]</td>\n",
              "      <td>73.0</td>\n",
              "      <td>[['dance pop', 'pop rap', 'reggae fusion']]</td>\n",
              "    </tr>\n",
              "    <tr>\n",
              "      <th>...</th>\n",
              "      <td>...</td>\n",
              "      <td>...</td>\n",
              "      <td>...</td>\n",
              "      <td>...</td>\n",
              "      <td>...</td>\n",
              "      <td>...</td>\n",
              "      <td>...</td>\n",
              "      <td>...</td>\n",
              "      <td>...</td>\n",
              "      <td>...</td>\n",
              "      <td>...</td>\n",
              "      <td>...</td>\n",
              "      <td>...</td>\n",
              "      <td>...</td>\n",
              "      <td>...</td>\n",
              "      <td>...</td>\n",
              "      <td>...</td>\n",
              "      <td>...</td>\n",
              "      <td>...</td>\n",
              "      <td>...</td>\n",
              "    </tr>\n",
              "    <tr>\n",
              "      <th>96</th>\n",
              "      <td>korean</td>\n",
              "      <td>Ah-Choo</td>\n",
              "      <td>Lovelyz</td>\n",
              "      <td>Lovelyz8</td>\n",
              "      <td>0.609</td>\n",
              "      <td>0.246</td>\n",
              "      <td>8.0</td>\n",
              "      <td>-8.449</td>\n",
              "      <td>1.0</td>\n",
              "      <td>0.0376</td>\n",
              "      <td>0.78400</td>\n",
              "      <td>0.000000</td>\n",
              "      <td>0.0825</td>\n",
              "      <td>0.371</td>\n",
              "      <td>123.773</td>\n",
              "      <td>06L1apH8kLF47dbhZ4Zg9A</td>\n",
              "      <td>4.0</td>\n",
              "      <td>NaN</td>\n",
              "      <td>NaN</td>\n",
              "      <td>[nan]</td>\n",
              "    </tr>\n",
              "    <tr>\n",
              "      <th>97</th>\n",
              "      <td>korean</td>\n",
              "      <td>BREATHE</td>\n",
              "      <td>LEE HI</td>\n",
              "      <td>SEOULITE</td>\n",
              "      <td>0.763</td>\n",
              "      <td>0.658</td>\n",
              "      <td>5.0</td>\n",
              "      <td>-5.643</td>\n",
              "      <td>0.0</td>\n",
              "      <td>0.1470</td>\n",
              "      <td>0.02580</td>\n",
              "      <td>0.000000</td>\n",
              "      <td>0.0915</td>\n",
              "      <td>0.389</td>\n",
              "      <td>80.038</td>\n",
              "      <td>2qWgqPdW1OiAP8KSBH1b93</td>\n",
              "      <td>4.0</td>\n",
              "      <td>NaN</td>\n",
              "      <td>NaN</td>\n",
              "      <td>[nan]</td>\n",
              "    </tr>\n",
              "    <tr>\n",
              "      <th>98</th>\n",
              "      <td>korean</td>\n",
              "      <td>FXXK WIT US</td>\n",
              "      <td>LEE HI</td>\n",
              "      <td>SEOULITE</td>\n",
              "      <td>0.604</td>\n",
              "      <td>0.875</td>\n",
              "      <td>7.0</td>\n",
              "      <td>-1.995</td>\n",
              "      <td>0.0</td>\n",
              "      <td>0.0539</td>\n",
              "      <td>0.24400</td>\n",
              "      <td>0.000000</td>\n",
              "      <td>0.1140</td>\n",
              "      <td>0.219</td>\n",
              "      <td>129.925</td>\n",
              "      <td>2PTf3zh9UUsgdxQ5b0eXg8</td>\n",
              "      <td>4.0</td>\n",
              "      <td>NaN</td>\n",
              "      <td>NaN</td>\n",
              "      <td>[nan]</td>\n",
              "    </tr>\n",
              "    <tr>\n",
              "      <th>99</th>\n",
              "      <td>korean</td>\n",
              "      <td>I Will Show You</td>\n",
              "      <td>Ailee</td>\n",
              "      <td>U&amp;I</td>\n",
              "      <td>0.756</td>\n",
              "      <td>0.426</td>\n",
              "      <td>1.0</td>\n",
              "      <td>-8.750</td>\n",
              "      <td>0.0</td>\n",
              "      <td>0.0745</td>\n",
              "      <td>0.50400</td>\n",
              "      <td>0.039400</td>\n",
              "      <td>0.0884</td>\n",
              "      <td>0.355</td>\n",
              "      <td>135.960</td>\n",
              "      <td>7tIJDktakabGoHjwTTa35W</td>\n",
              "      <td>4.0</td>\n",
              "      <td>NaN</td>\n",
              "      <td>NaN</td>\n",
              "      <td>[nan]</td>\n",
              "    </tr>\n",
              "    <tr>\n",
              "      <th>100</th>\n",
              "      <td>korean</td>\n",
              "      <td>Take Me</td>\n",
              "      <td>Miso</td>\n",
              "      <td>Take Me</td>\n",
              "      <td>0.628</td>\n",
              "      <td>0.284</td>\n",
              "      <td>4.0</td>\n",
              "      <td>-11.629</td>\n",
              "      <td>1.0</td>\n",
              "      <td>0.1020</td>\n",
              "      <td>0.54400</td>\n",
              "      <td>0.000005</td>\n",
              "      <td>0.1210</td>\n",
              "      <td>0.354</td>\n",
              "      <td>91.131</td>\n",
              "      <td>6ToAD7ajJidQTDn72OncDG</td>\n",
              "      <td>4.0</td>\n",
              "      <td>NaN</td>\n",
              "      <td>NaN</td>\n",
              "      <td>[nan]</td>\n",
              "    </tr>\n",
              "  </tbody>\n",
              "</table>\n",
              "<p>100 rows × 20 columns</p>\n",
              "</div>\n",
              "      <button class=\"colab-df-convert\" onclick=\"convertToInteractive('df-9ae45ec6-4cca-4b5a-a19b-b2d0c01cd887')\"\n",
              "              title=\"Convert this dataframe to an interactive table.\"\n",
              "              style=\"display:none;\">\n",
              "        \n",
              "  <svg xmlns=\"http://www.w3.org/2000/svg\" height=\"24px\"viewBox=\"0 0 24 24\"\n",
              "       width=\"24px\">\n",
              "    <path d=\"M0 0h24v24H0V0z\" fill=\"none\"/>\n",
              "    <path d=\"M18.56 5.44l.94 2.06.94-2.06 2.06-.94-2.06-.94-.94-2.06-.94 2.06-2.06.94zm-11 1L8.5 8.5l.94-2.06 2.06-.94-2.06-.94L8.5 2.5l-.94 2.06-2.06.94zm10 10l.94 2.06.94-2.06 2.06-.94-2.06-.94-.94-2.06-.94 2.06-2.06.94z\"/><path d=\"M17.41 7.96l-1.37-1.37c-.4-.4-.92-.59-1.43-.59-.52 0-1.04.2-1.43.59L10.3 9.45l-7.72 7.72c-.78.78-.78 2.05 0 2.83L4 21.41c.39.39.9.59 1.41.59.51 0 1.02-.2 1.41-.59l7.78-7.78 2.81-2.81c.8-.78.8-2.07 0-2.86zM5.41 20L4 18.59l7.72-7.72 1.47 1.35L5.41 20z\"/>\n",
              "  </svg>\n",
              "      </button>\n",
              "      \n",
              "  <style>\n",
              "    .colab-df-container {\n",
              "      display:flex;\n",
              "      flex-wrap:wrap;\n",
              "      gap: 12px;\n",
              "    }\n",
              "\n",
              "    .colab-df-convert {\n",
              "      background-color: #E8F0FE;\n",
              "      border: none;\n",
              "      border-radius: 50%;\n",
              "      cursor: pointer;\n",
              "      display: none;\n",
              "      fill: #1967D2;\n",
              "      height: 32px;\n",
              "      padding: 0 0 0 0;\n",
              "      width: 32px;\n",
              "    }\n",
              "\n",
              "    .colab-df-convert:hover {\n",
              "      background-color: #E2EBFA;\n",
              "      box-shadow: 0px 1px 2px rgba(60, 64, 67, 0.3), 0px 1px 3px 1px rgba(60, 64, 67, 0.15);\n",
              "      fill: #174EA6;\n",
              "    }\n",
              "\n",
              "    [theme=dark] .colab-df-convert {\n",
              "      background-color: #3B4455;\n",
              "      fill: #D2E3FC;\n",
              "    }\n",
              "\n",
              "    [theme=dark] .colab-df-convert:hover {\n",
              "      background-color: #434B5C;\n",
              "      box-shadow: 0px 1px 3px 1px rgba(0, 0, 0, 0.15);\n",
              "      filter: drop-shadow(0px 1px 2px rgba(0, 0, 0, 0.3));\n",
              "      fill: #FFFFFF;\n",
              "    }\n",
              "  </style>\n",
              "\n",
              "      <script>\n",
              "        const buttonEl =\n",
              "          document.querySelector('#df-9ae45ec6-4cca-4b5a-a19b-b2d0c01cd887 button.colab-df-convert');\n",
              "        buttonEl.style.display =\n",
              "          google.colab.kernel.accessAllowed ? 'block' : 'none';\n",
              "\n",
              "        async function convertToInteractive(key) {\n",
              "          const element = document.querySelector('#df-9ae45ec6-4cca-4b5a-a19b-b2d0c01cd887');\n",
              "          const dataTable =\n",
              "            await google.colab.kernel.invokeFunction('convertToInteractive',\n",
              "                                                     [key], {});\n",
              "          if (!dataTable) return;\n",
              "\n",
              "          const docLinkHtml = 'Like what you see? Visit the ' +\n",
              "            '<a target=\"_blank\" href=https://colab.research.google.com/notebooks/data_table.ipynb>data table notebook</a>'\n",
              "            + ' to learn more about interactive tables.';\n",
              "          element.innerHTML = '';\n",
              "          dataTable['output_type'] = 'display_data';\n",
              "          await google.colab.output.renderOutput(dataTable, element);\n",
              "          const docLink = document.createElement('div');\n",
              "          docLink.innerHTML = docLinkHtml;\n",
              "          element.appendChild(docLink);\n",
              "        }\n",
              "      </script>\n",
              "    </div>\n",
              "  </div>\n",
              "  "
            ]
          },
          "metadata": {},
          "execution_count": 71
        }
      ]
    },
    {
      "cell_type": "markdown",
      "source": [
        "Song and Artist Popularity -  normalization"
      ],
      "metadata": {
        "id": "zzVytSssVZlj"
      },
      "id": "zzVytSssVZlj"
    },
    {
      "cell_type": "code",
      "source": [
        "#artist normalization\n",
        "artist_pop = df[[\"artist_popularity\"]].reset_index(drop = True)\n",
        "#from scikit-learn\n",
        "scaler = MinMaxScaler()\n",
        "artist_pop_scaled = pd.DataFrame(scaler.fit_transform(artist_pop), columns = artist_pop.columns)\n",
        "\n",
        "print(artist_pop_scaled.head())\n",
        "\n",
        "#track normalization\n",
        "track_pop = df[[\"track_popularity\"]].reset_index(drop = True)\n",
        "#from scikit-learn\n",
        "scaler = MinMaxScaler()\n",
        "track_pop_scaled = pd.DataFrame(scaler.fit_transform(track_pop), columns = track_pop.columns)\n",
        "\n",
        "print(track_pop_scaled.head())"
      ],
      "metadata": {
        "id": "vBtt_B6GX-tA",
        "colab": {
          "base_uri": "https://localhost:8080/",
          "height": 411
        },
        "outputId": "13a63bdb-2552-4399-b1c3-b0c371d9ecd8"
      },
      "id": "vBtt_B6GX-tA",
      "execution_count": null,
      "outputs": [
        {
          "output_type": "error",
          "ename": "KeyError",
          "evalue": "ignored",
          "traceback": [
            "\u001b[0;31m---------------------------------------------------------------------------\u001b[0m",
            "\u001b[0;31mKeyError\u001b[0m                                  Traceback (most recent call last)",
            "\u001b[0;32m<ipython-input-49-7aa5e5f241c1>\u001b[0m in \u001b[0;36m<cell line: 2>\u001b[0;34m()\u001b[0m\n\u001b[1;32m      1\u001b[0m \u001b[0;31m#artist normalization\u001b[0m\u001b[0;34m\u001b[0m\u001b[0;34m\u001b[0m\u001b[0m\n\u001b[0;32m----> 2\u001b[0;31m \u001b[0martist_pop\u001b[0m \u001b[0;34m=\u001b[0m \u001b[0mdf\u001b[0m\u001b[0;34m[\u001b[0m\u001b[0;34m[\u001b[0m\u001b[0;34m\"artist_popularity\"\u001b[0m\u001b[0;34m]\u001b[0m\u001b[0;34m]\u001b[0m\u001b[0;34m.\u001b[0m\u001b[0mreset_index\u001b[0m\u001b[0;34m(\u001b[0m\u001b[0mdrop\u001b[0m \u001b[0;34m=\u001b[0m \u001b[0;32mTrue\u001b[0m\u001b[0;34m)\u001b[0m\u001b[0;34m\u001b[0m\u001b[0;34m\u001b[0m\u001b[0m\n\u001b[0m\u001b[1;32m      3\u001b[0m \u001b[0;31m#from scikit-learn\u001b[0m\u001b[0;34m\u001b[0m\u001b[0;34m\u001b[0m\u001b[0m\n\u001b[1;32m      4\u001b[0m \u001b[0mscaler\u001b[0m \u001b[0;34m=\u001b[0m \u001b[0mMinMaxScaler\u001b[0m\u001b[0;34m(\u001b[0m\u001b[0;34m)\u001b[0m\u001b[0;34m\u001b[0m\u001b[0;34m\u001b[0m\u001b[0m\n\u001b[1;32m      5\u001b[0m \u001b[0martist_pop_scaled\u001b[0m \u001b[0;34m=\u001b[0m \u001b[0mpd\u001b[0m\u001b[0;34m.\u001b[0m\u001b[0mDataFrame\u001b[0m\u001b[0;34m(\u001b[0m\u001b[0mscaler\u001b[0m\u001b[0;34m.\u001b[0m\u001b[0mfit_transform\u001b[0m\u001b[0;34m(\u001b[0m\u001b[0martist_pop\u001b[0m\u001b[0;34m)\u001b[0m\u001b[0;34m,\u001b[0m \u001b[0mcolumns\u001b[0m \u001b[0;34m=\u001b[0m \u001b[0martist_pop\u001b[0m\u001b[0;34m.\u001b[0m\u001b[0mcolumns\u001b[0m\u001b[0;34m)\u001b[0m\u001b[0;34m\u001b[0m\u001b[0;34m\u001b[0m\u001b[0m\n",
            "\u001b[0;32m/usr/local/lib/python3.10/dist-packages/pandas/core/frame.py\u001b[0m in \u001b[0;36m__getitem__\u001b[0;34m(self, key)\u001b[0m\n\u001b[1;32m   3811\u001b[0m             \u001b[0;32mif\u001b[0m \u001b[0mis_iterator\u001b[0m\u001b[0;34m(\u001b[0m\u001b[0mkey\u001b[0m\u001b[0;34m)\u001b[0m\u001b[0;34m:\u001b[0m\u001b[0;34m\u001b[0m\u001b[0;34m\u001b[0m\u001b[0m\n\u001b[1;32m   3812\u001b[0m                 \u001b[0mkey\u001b[0m \u001b[0;34m=\u001b[0m \u001b[0mlist\u001b[0m\u001b[0;34m(\u001b[0m\u001b[0mkey\u001b[0m\u001b[0;34m)\u001b[0m\u001b[0;34m\u001b[0m\u001b[0;34m\u001b[0m\u001b[0m\n\u001b[0;32m-> 3813\u001b[0;31m             \u001b[0mindexer\u001b[0m \u001b[0;34m=\u001b[0m \u001b[0mself\u001b[0m\u001b[0;34m.\u001b[0m\u001b[0mcolumns\u001b[0m\u001b[0;34m.\u001b[0m\u001b[0m_get_indexer_strict\u001b[0m\u001b[0;34m(\u001b[0m\u001b[0mkey\u001b[0m\u001b[0;34m,\u001b[0m \u001b[0;34m\"columns\"\u001b[0m\u001b[0;34m)\u001b[0m\u001b[0;34m[\u001b[0m\u001b[0;36m1\u001b[0m\u001b[0;34m]\u001b[0m\u001b[0;34m\u001b[0m\u001b[0;34m\u001b[0m\u001b[0m\n\u001b[0m\u001b[1;32m   3814\u001b[0m \u001b[0;34m\u001b[0m\u001b[0m\n\u001b[1;32m   3815\u001b[0m         \u001b[0;31m# take() does not accept boolean indexers\u001b[0m\u001b[0;34m\u001b[0m\u001b[0;34m\u001b[0m\u001b[0m\n",
            "\u001b[0;32m/usr/local/lib/python3.10/dist-packages/pandas/core/indexes/base.py\u001b[0m in \u001b[0;36m_get_indexer_strict\u001b[0;34m(self, key, axis_name)\u001b[0m\n\u001b[1;32m   6068\u001b[0m             \u001b[0mkeyarr\u001b[0m\u001b[0;34m,\u001b[0m \u001b[0mindexer\u001b[0m\u001b[0;34m,\u001b[0m \u001b[0mnew_indexer\u001b[0m \u001b[0;34m=\u001b[0m \u001b[0mself\u001b[0m\u001b[0;34m.\u001b[0m\u001b[0m_reindex_non_unique\u001b[0m\u001b[0;34m(\u001b[0m\u001b[0mkeyarr\u001b[0m\u001b[0;34m)\u001b[0m\u001b[0;34m\u001b[0m\u001b[0;34m\u001b[0m\u001b[0m\n\u001b[1;32m   6069\u001b[0m \u001b[0;34m\u001b[0m\u001b[0m\n\u001b[0;32m-> 6070\u001b[0;31m         \u001b[0mself\u001b[0m\u001b[0;34m.\u001b[0m\u001b[0m_raise_if_missing\u001b[0m\u001b[0;34m(\u001b[0m\u001b[0mkeyarr\u001b[0m\u001b[0;34m,\u001b[0m \u001b[0mindexer\u001b[0m\u001b[0;34m,\u001b[0m \u001b[0maxis_name\u001b[0m\u001b[0;34m)\u001b[0m\u001b[0;34m\u001b[0m\u001b[0;34m\u001b[0m\u001b[0m\n\u001b[0m\u001b[1;32m   6071\u001b[0m \u001b[0;34m\u001b[0m\u001b[0m\n\u001b[1;32m   6072\u001b[0m         \u001b[0mkeyarr\u001b[0m \u001b[0;34m=\u001b[0m \u001b[0mself\u001b[0m\u001b[0;34m.\u001b[0m\u001b[0mtake\u001b[0m\u001b[0;34m(\u001b[0m\u001b[0mindexer\u001b[0m\u001b[0;34m)\u001b[0m\u001b[0;34m\u001b[0m\u001b[0;34m\u001b[0m\u001b[0m\n",
            "\u001b[0;32m/usr/local/lib/python3.10/dist-packages/pandas/core/indexes/base.py\u001b[0m in \u001b[0;36m_raise_if_missing\u001b[0;34m(self, key, indexer, axis_name)\u001b[0m\n\u001b[1;32m   6128\u001b[0m                 \u001b[0;32mif\u001b[0m \u001b[0muse_interval_msg\u001b[0m\u001b[0;34m:\u001b[0m\u001b[0;34m\u001b[0m\u001b[0;34m\u001b[0m\u001b[0m\n\u001b[1;32m   6129\u001b[0m                     \u001b[0mkey\u001b[0m \u001b[0;34m=\u001b[0m \u001b[0mlist\u001b[0m\u001b[0;34m(\u001b[0m\u001b[0mkey\u001b[0m\u001b[0;34m)\u001b[0m\u001b[0;34m\u001b[0m\u001b[0;34m\u001b[0m\u001b[0m\n\u001b[0;32m-> 6130\u001b[0;31m                 \u001b[0;32mraise\u001b[0m \u001b[0mKeyError\u001b[0m\u001b[0;34m(\u001b[0m\u001b[0;34mf\"None of [{key}] are in the [{axis_name}]\"\u001b[0m\u001b[0;34m)\u001b[0m\u001b[0;34m\u001b[0m\u001b[0;34m\u001b[0m\u001b[0m\n\u001b[0m\u001b[1;32m   6131\u001b[0m \u001b[0;34m\u001b[0m\u001b[0m\n\u001b[1;32m   6132\u001b[0m             \u001b[0mnot_found\u001b[0m \u001b[0;34m=\u001b[0m \u001b[0mlist\u001b[0m\u001b[0;34m(\u001b[0m\u001b[0mensure_index\u001b[0m\u001b[0;34m(\u001b[0m\u001b[0mkey\u001b[0m\u001b[0;34m)\u001b[0m\u001b[0;34m[\u001b[0m\u001b[0mmissing_mask\u001b[0m\u001b[0;34m.\u001b[0m\u001b[0mnonzero\u001b[0m\u001b[0;34m(\u001b[0m\u001b[0;34m)\u001b[0m\u001b[0;34m[\u001b[0m\u001b[0;36m0\u001b[0m\u001b[0;34m]\u001b[0m\u001b[0;34m]\u001b[0m\u001b[0;34m.\u001b[0m\u001b[0munique\u001b[0m\u001b[0;34m(\u001b[0m\u001b[0;34m)\u001b[0m\u001b[0;34m)\u001b[0m\u001b[0;34m\u001b[0m\u001b[0;34m\u001b[0m\u001b[0m\n",
            "\u001b[0;31mKeyError\u001b[0m: \"None of [Index(['artist_popularity'], dtype='object')] are in the [columns]\""
          ]
        }
      ]
    },
    {
      "cell_type": "markdown",
      "source": [
        "Audio features - normalization to largest and smallest values of each feature"
      ],
      "metadata": {
        "id": "61DdtjgbaSAL"
      },
      "id": "61DdtjgbaSAL"
    },
    {
      "cell_type": "code",
      "source": [],
      "metadata": {
        "id": "saPdDWAlaTcQ"
      },
      "id": "saPdDWAlaTcQ",
      "execution_count": null,
      "outputs": []
    },
    {
      "cell_type": "code",
      "execution_count": null,
      "metadata": {
        "id": "06e0ffa1"
      },
      "outputs": [],
      "source": [],
      "id": "06e0ffa1"
    }
  ],
  "metadata": {
    "colab": {
      "provenance": [],
      "include_colab_link": true
    },
    "kernelspec": {
      "display_name": "Python 3 (ipykernel)",
      "language": "python",
      "name": "python3"
    },
    "language_info": {
      "codemirror_mode": {
        "name": "ipython",
        "version": 3
      },
      "file_extension": ".py",
      "mimetype": "text/x-python",
      "name": "python",
      "nbconvert_exporter": "python",
      "pygments_lexer": "ipython3",
      "version": "3.9.13"
    }
  },
  "nbformat": 4,
  "nbformat_minor": 5
}